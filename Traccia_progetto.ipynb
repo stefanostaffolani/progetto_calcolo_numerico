{
 "cells": [
  {
   "cell_type": "markdown",
   "metadata": {
    "id": "pUpr45QmS648"
   },
   "source": [
    "# Informazioni consegna\n",
    "* Aggiungere i componenti del proprio gruppo in questo [form](https://forms.office.com/r/1WKBx4YgSH). \n",
    "* **I gruppi possono essere composti da massimo 3 persone. Nel caso si intenda fare il progetto da soli bisogna comunque aggiungere il proprio nome nel form.**\n",
    "* Per la consegna è necessario caricare su Virtuale la relazione, il notebook Colab e le immagini generate.\n",
    "* La consegna deve essere effettuata da un qualsiasi membro del gruppo e verrà automaticamente attribuita ai restanti componenti.\n",
    "* Per i dettagli sulle tempistiche e le scadenze si faccia riferimento a Virtuale."
   ]
  },
  {
   "cell_type": "markdown",
   "metadata": {
    "id": "f_Hj3qHbc5FE"
   },
   "source": [
    "# Deblur Immagini\n",
    "Il problema di deblur consiste nella ricostruzione di un immagine a partire da un dato acquisito mediante il seguente modello:\n",
    "\n",
    "\\begin{align*}\n",
    "    b = A x + \\eta\n",
    "\\end{align*}\n",
    "\n",
    "dove $b$ rappresenta l'immagine corrotta, $x$ l'immagine originale che vogliamo ricostruire, $A$ l'operatore che applica il blur Gaussiano ed $\\eta$ il rumore additivo con distribuzione Gaussiana di  media $\\mathbb{0}$ e deviazione standard $\\sigma$."
   ]
  },
  {
   "cell_type": "markdown",
   "metadata": {
    "id": "9w6c8RYzdZhi"
   },
   "source": [
    "## Funzioni di blur\n",
    "Le seguenti funzioni servono per applicare il blur di tipo gaussiano ad un'immagine.\n",
    "\n"
   ]
  },
  {
   "cell_type": "code",
   "execution_count": 2,
   "metadata": {
    "id": "KOIArYLErG_j"
   },
   "outputs": [],
   "source": [
    "import numpy as np\n",
    "import matplotlib.pyplot as plt\n",
    "from skimage import data, metrics\n",
    "from scipy import signal\n",
    "from numpy import fft\n",
    "from PIL import Image\n",
    "from scipy.optimize import minimize\n",
    "\n",
    "# Create a Gaussian kernel of size kernlen and standard deviation sigma\n",
    "def gaussian_kernel(kernlen, sigma):\n",
    "    x = np.linspace(- (kernlen // 2), kernlen // 2, kernlen)    \n",
    "    # Unidimensional Gaussian kernel\n",
    "    kern1d = np.exp(- 0.5 * (x**2 / sigma))\n",
    "    # Bidimensional Gaussian kernel\n",
    "    kern2d = np.outer(kern1d, kern1d)\n",
    "    # Normalization\n",
    "    return kern2d / kern2d.sum()\n",
    "\n",
    "# Compute the FFT of the kernel 'K' of size 'd' padding with the zeros necessary\n",
    "# to match the size of 'shape'\n",
    "def psf_fft(K, d, shape):\n",
    "    # Zero padding\n",
    "    K_p = np.zeros(shape)\n",
    "    K_p[:d, :d] = K\n",
    "\n",
    "    # Shift\n",
    "    p = d // 2\n",
    "    K_pr = np.roll(np.roll(K_p, -p, 0), -p, 1)\n",
    "\n",
    "    # Compute FFT\n",
    "    K_otf = fft.fft2(K_pr)\n",
    "    return K_otf\n",
    "\n",
    "# Multiplication by A\n",
    "def A(x, K):\n",
    "  #print(x.shape, K.shape)\n",
    "  x = fft.fft2(x)\n",
    "  return np.real(fft.ifft2(K * x))\n",
    "\n",
    "# Multiplication by A transpose\n",
    "def AT(x, K):\n",
    "  x = fft.fft2(x)\n",
    "  return np.real(fft.ifft2(np.conj(K) * x))"
   ]
  },
  {
   "cell_type": "markdown",
   "metadata": {
    "id": "v3d1MzlRrMTZ"
   },
   "source": [
    "## Generazione dataset\n",
    "Generare un set di 8 immagini 512$\\times$512 in formato ${\\tt png}$ in scala dei grigi che contengano tra i 2 ed i 6 oggetti geometrici, di colore uniforme, su sfondo nero. \n",
    "\n",
    "\n",
    "![Immagine2.png](data:image/png;base64,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)\n"
   ]
  },
  {
   "cell_type": "markdown",
   "metadata": {
    "id": "P7kctNn96hRu"
   },
   "source": [
    "## 1) Generazione immagini corrotte\n",
    "Degradare le immagini applicando, mediante le funzioni riportate nella cella precedente,  l'operatore di blur con parametri\n",
    "\n",
    "+ $\\sigma=0.5$ dimensione $5\\times 5$\n",
    "+ $\\sigma=1$ dimensione $7\\times 7$\n",
    "+ $\\sigma=1.3$ dimensione $9\\times 9$\n",
    "\n",
    "ed aggiungendo rumore gaussiano con deviazione standard $(0,0.05]$"
   ]
  },
  {
   "cell_type": "code",
   "execution_count": 3,
   "metadata": {
    "id": "ZuDOVXt_rtSl"
   },
   "outputs": [],
   "source": [
    "size = [5,7,9]\n",
    "sigma = [0.5,1,1.3]\n",
    "deviation = [0.01,0.025,0.05]\n"
   ]
  },
  {
   "cell_type": "code",
   "execution_count": 12,
   "metadata": {},
   "outputs": [],
   "source": [
    "#filtri di blur\n",
    "K0 = psf_fft(gaussian_kernel(size[0],sigma[0]),size[0],(512,512))\n",
    "K1 = psf_fft(gaussian_kernel(size[1],sigma[1]),size[1],(512,512))\n",
    "K2 = psf_fft(gaussian_kernel(size[2],sigma[2]),size[2],(512,512))"
   ]
  },
  {
   "cell_type": "code",
   "execution_count": 13,
   "metadata": {},
   "outputs": [],
   "source": [
    "#degradazione delle 8 immagini con aggiunta di rumore con deviazione standard di 0.05 \n",
    "A0 = np.asarray(Image.open(\"Immagini_progetto/img_0.png\"))/255.0\n",
    "A1 = np.asarray(Image.open(\"Immagini_progetto/img_1.png\"))/255.0\n",
    "A2 = np.asarray(Image.open(\"Immagini_progetto/img_2.png\"))/255.0\n",
    "A3 = np.asarray(Image.open(\"Immagini_progetto/img_3.png\"))/255.0\n",
    "A4 = np.asarray(Image.open(\"Immagini_progetto/img_4.png\"))/255.0\n",
    "A5 = np.asarray(Image.open(\"Immagini_progetto/img_5.png\"))/255.0\n",
    "A6 = np.asarray(Image.open(\"Immagini_progetto/img_6.png\"))/255.0\n",
    "A7 = np.asarray(Image.open(\"Immagini_progetto/img_7.png\"))/255.0\n",
    "\n",
    "A0_blur0 = A(A0, K0) + np.random.normal(size=A0.shape)*deviation[2]\n",
    "A0_blur1 = A(A0, K1) + np.random.normal(size=A0.shape)*deviation[2]\n",
    "A0_blur2 = A(A0, K2) + np.random.normal(size=A0.shape)*deviation[2]\n",
    "A1_blur0 = A(A1, K0) + np.random.normal(size=A1.shape)*deviation[2]\n",
    "A1_blur1 = A(A1, K1) + np.random.normal(size=A1.shape)*deviation[2]\n",
    "A1_blur2 = A(A1, K2) + np.random.normal(size=A1.shape)*deviation[2]\n",
    "A2_blur0 = A(A2, K0) + np.random.normal(size=A2.shape)*deviation[2]\n",
    "A2_blur1 = A(A2, K1) + np.random.normal(size=A2.shape)*deviation[2]\n",
    "A2_blur2 = A(A2, K2) + np.random.normal(size=A2.shape)*deviation[2]\n",
    "A3_blur0 = A(A3, K0) + np.random.normal(size=A3.shape)*deviation[2]\n",
    "A3_blur1 = A(A3, K1) + np.random.normal(size=A3.shape)*deviation[2]\n",
    "A3_blur2 = A(A3, K2) + np.random.normal(size=A3.shape)*deviation[2]\n",
    "A4_blur0 = A(A4, K0) + np.random.normal(size=A4.shape)*deviation[2]\n",
    "A4_blur1 = A(A4, K1) + np.random.normal(size=A4.shape)*deviation[2]\n",
    "A4_blur2 = A(A4, K2) + np.random.normal(size=A4.shape)*deviation[2]\n",
    "A5_blur0 = A(A5, K0) + np.random.normal(size=A5.shape)*deviation[2]\n",
    "A5_blur1 = A(A5, K1) + np.random.normal(size=A5.shape)*deviation[2]\n",
    "A5_blur2 = A(A5, K2) + np.random.normal(size=A5.shape)*deviation[2]\n",
    "A6_blur0 = A(A6, K0) + np.random.normal(size=A6.shape)*deviation[2]\n",
    "A6_blur1 = A(A6, K1) + np.random.normal(size=A6.shape)*deviation[2]\n",
    "A6_blur2 = A(A6, K2) + np.random.normal(size=A6.shape)*deviation[2]\n",
    "A7_blur0 = A(A7, K0) + np.random.normal(size=A7.shape)*deviation[2]\n",
    "A7_blur1 = A(A7, K1) + np.random.normal(size=A7.shape)*deviation[2]\n",
    "A7_blur2 = A(A7, K2) + np.random.normal(size=A7.shape)*deviation[2]"
   ]
  },
  {
   "cell_type": "markdown",
   "metadata": {
    "id": "AH2hxljMrs05"
   },
   "source": [
    "## 2) Soluzione naive\n",
    "\n",
    "Una possibile ricostruzione dell'immagine originale $x$ partendo dall'immagine corrotta $b$ è la soluzione naive data dal minimo del seguente problema di ottimizzazione:\n",
    "\\begin{align}\n",
    "  x^* = \\arg\\min_x \\frac{1}{2} ||Ax - b||_2^2\n",
    "\\end{align}\n",
    "\n",
    "La funzione $f$ da minimizzare è data dalla formula\n",
    "  $f(x) = \\frac{1}{2} ||Ax - b||_2^2 $, il cui gradiente $\\nabla f$ è dato da\n",
    "$\\nabla f(x) = A^TAx - A^Tb  $.\n",
    "\n",
    "Utilizzando il metodo del gradiente coniugato implementato dalla funzione `minimize` calcolare la soluzione naive. "
   ]
  },
  {
   "cell_type": "code",
   "execution_count": 8,
   "metadata": {},
   "outputs": [],
   "source": [
    "#help(minimize)"
   ]
  },
  {
   "cell_type": "code",
   "execution_count": 14,
   "metadata": {
    "id": "NE1-Z7AcrnUl"
   },
   "outputs": [
    {
     "name": "stdout",
     "output_type": "stream",
     "text": [
      "CPU times: user 4.78 ms, sys: 1.47 ms, total: 6.25 ms\n",
      "Wall time: 3.53 ms\n"
     ]
    }
   ],
   "source": [
    "%%time\n",
    "\n",
    "def f_naive(x, K, b):\n",
    "    x = np.reshape(x, (512,512))\n",
    "    f = 0.5 * ( np.linalg.norm(A(x,K) - b, 2 ))**2\n",
    "    df = AT(A(x,K),K) - (AT(b,K)) \n",
    "    #print('.',end='')    #per stampare puntini ad ogni esecuzione\n",
    "    return (f,df.flatten())  #se jac=True ==> tupla e prende df da solo\n",
    "\n",
    "x0 = np.zeros((512,512)).flatten()"
   ]
  },
  {
   "cell_type": "code",
   "execution_count": null,
   "metadata": {},
   "outputs": [],
   "source": [
    "#ricostruzioni naive con minimize CG\n",
    "deblurred_naive0_0 = minimize(f_naive, x0, method=\"CG\", jac=True, args=(K0, A0_blur0,)).x\n",
    "deblurred_naive0_1 = minimize(f_naive, x0, method=\"CG\", jac=True, args=(K1, A0_blur1,)).x\n",
    "deblurred_naive0_2 = minimize(f_naive, x0, method=\"CG\", jac=True, args=(K2, A0_blur2,)).x\n",
    "deblurred_naive1_0 = minimize(f_naive, x0, method=\"CG\", jac=True, args=(K0, A1_blur0,)).x\n",
    "deblurred_naive1_1 = minimize(f_naive, x0, method=\"CG\", jac=True, args=(K1, A1_blur1,)).x\n",
    "deblurred_naive1_2 = minimize(f_naive, x0, method=\"CG\", jac=True, args=(K2, A1_blur2,)).x\n",
    "deblurred_naive2_0 = minimize(f_naive, x0, method=\"CG\", jac=True, args=(K0, A2_blur0,)).x\n",
    "deblurred_naive2_1 = minimize(f_naive, x0, method=\"CG\", jac=True, args=(K1, A2_blur1,)).x\n",
    "deblurred_naive2_2 = minimize(f_naive, x0, method=\"CG\", jac=True, args=(K2, A2_blur2,)).x\n",
    "deblurred_naive3_0 = minimize(f_naive, x0, method=\"CG\", jac=True, args=(K0, A3_blur0,)).x\n",
    "deblurred_naive3_1 = minimize(f_naive, x0, method=\"CG\", jac=True, args=(K1, A3_blur1,)).x\n",
    "deblurred_naive3_2 = minimize(f_naive, x0, method=\"CG\", jac=True, args=(K2, A3_blur2,)).x\n",
    "deblurred_naive4_0 = minimize(f_naive, x0, method=\"CG\", jac=True, args=(K0, A4_blur0,)).x\n",
    "deblurred_naive4_1 = minimize(f_naive, x0, method=\"CG\", jac=True, args=(K1, A4_blur1,)).x\n",
    "deblurred_naive4_2 = minimize(f_naive, x0, method=\"CG\", jac=True, args=(K2, A4_blur2,)).x\n",
    "deblurred_naive5_0 = minimize(f_naive, x0, method=\"CG\", jac=True, args=(K0, A5_blur0,)).x\n",
    "deblurred_naive5_1 = minimize(f_naive, x0, method=\"CG\", jac=True, args=(K1, A5_blur1,)).x\n",
    "deblurred_naive5_2 = minimize(f_naive, x0, method=\"CG\", jac=True, args=(K2, A5_blur2,)).x\n",
    "deblurred_naive6_0 = minimize(f_naive, x0, method=\"CG\", jac=True, args=(K0, A6_blur0,)).x\n",
    "deblurred_naive6_1 = minimize(f_naive, x0, method=\"CG\", jac=True, args=(K1, A6_blur1,)).x\n",
    "deblurred_naive6_2 = minimize(f_naive, x0, method=\"CG\", jac=True, args=(K2, A6_blur2,)).x\n",
    "deblurred_naive7_0 = minimize(f_naive, x0, method=\"CG\", jac=True, args=(K0, A7_blur0,)).x\n",
    "deblurred_naive7_1 = minimize(f_naive, x0, method=\"CG\", jac=True, args=(K1, A7_blur1,)).x\n",
    "deblurred_naive7_2 = minimize(f_naive, x0, method=\"CG\", jac=True, args=(K2, A7_blur2,)).x"
   ]
  },
  {
   "cell_type": "markdown",
   "metadata": {
    "id": "yoTaMhHeSmYa"
   },
   "source": [
    "## 3) Regolarizzazione\n",
    "Per ridurre gli effetti del rumore nella ricostruzione è necessario introdurre un termine di regolarizzazione di Tikhonov. Si considera quindi il seguente problema di ottimizzazione.\n",
    "\\begin{align*}\n",
    "  x^* = \\arg\\min_x \\frac{1}{2} ||Ax - b||_2^2 + \\frac{\\lambda}{2} ||x||_2^2\n",
    "\\end{align*}\n",
    "\n",
    "La funzione $f$ da minimizzare diventa\n",
    "$f(x) = \\frac{1}{2} ||Ax - b||_2^2 + \\frac{\\lambda}{2} ||x||_2^2$\n",
    "il cui gradiente $\\nabla f$ è dato da\n",
    "$\\nabla f(x) = A^TAx - A^Tb + λx$.\n",
    "\n",
    "Utilizzando il metodo del gradiente coniugato implementato dalla funzione `minimize` ed il metodo del gradiente implementato a lezione, calcolare la soluzione del precendente problema di minimo regolarizzato per differenti valori di $\\lambda$. "
   ]
  },
  {
   "cell_type": "code",
   "execution_count": 18,
   "metadata": {},
   "outputs": [],
   "source": [
    "LAMBDA_TIKHONOV = [1e-3,1e-2,1e-1] #costante lambda di regolarizazione\n",
    "\n",
    "def f_tikhonov(x,K,b,LMBD):  # funzione per minimize di scipy, passa anche il gradiente\n",
    "    x = np.reshape(x, (512,512))\n",
    "    f = 0.5*(np.linalg.norm(A(x,K)-b,2)**2 + LMBD*np.linalg.norm(x,2)**2)\n",
    "    df = AT(A(x,K), K) - AT(b,K) + LMBD*x\n",
    "    return (f,df.flatten())"
   ]
  },
  {
   "cell_type": "code",
   "execution_count": null,
   "metadata": {},
   "outputs": [],
   "source": [
    "#parametro di regolarizzazione I\n",
    "deblurred_tikhonov_cg0_0_0 = minimize(f_tikhonov, x0, method=\"CG\", jac=True, args=(K0, A0_blur0,LAMBDA_TIKHONOV[0])).x\n",
    "deblurred_tikhonov_cg0_1_0 = minimize(f_tikhonov, x0, method=\"CG\", jac=True, args=(K1, A0_blur1,LAMBDA_TIKHONOV[0])).x\n",
    "deblurred_tikhonov_cg0_2_0 = minimize(f_tikhonov, x0, method=\"CG\", jac=True, args=(K2, A0_blur2,LAMBDA_TIKHONOV[0])).x\n",
    "deblurred_tikhonov_cg1_0_0 = minimize(f_tikhonov, x0, method=\"CG\", jac=True, args=(K0, A1_blur0,LAMBDA_TIKHONOV[0])).x\n",
    "deblurred_tikhonov_cg1_1_0 = minimize(f_tikhonov, x0, method=\"CG\", jac=True, args=(K1, A1_blur1,LAMBDA_TIKHONOV[0])).x\n",
    "deblurred_tikhonov_cg1_2_0 = minimize(f_tikhonov, x0, method=\"CG\", jac=True, args=(K2, A1_blur2,LAMBDA_TIKHONOV[0])).x\n",
    "deblurred_tikhonov_cg2_0_0 = minimize(f_tikhonov, x0, method=\"CG\", jac=True, args=(K0, A2_blur0,LAMBDA_TIKHONOV[0])).x\n",
    "deblurred_tikhonov_cg2_1_0 = minimize(f_tikhonov, x0, method=\"CG\", jac=True, args=(K1, A2_blur1,LAMBDA_TIKHONOV[0])).x\n",
    "deblurred_tikhonov_cg2_2_0 = minimize(f_tikhonov, x0, method=\"CG\", jac=True, args=(K2, A2_blur2,LAMBDA_TIKHONOV[0])).x\n",
    "deblurred_tikhonov_cg3_0_0 = minimize(f_tikhonov, x0, method=\"CG\", jac=True, args=(K0, A3_blur0,LAMBDA_TIKHONOV[0])).x\n",
    "deblurred_tikhonov_cg3_1_0 = minimize(f_tikhonov, x0, method=\"CG\", jac=True, args=(K1, A3_blur1,LAMBDA_TIKHONOV[0])).x\n",
    "deblurred_tikhonov_cg3_2_0 = minimize(f_tikhonov, x0, method=\"CG\", jac=True, args=(K2, A3_blur2,LAMBDA_TIKHONOV[0])).x\n",
    "deblurred_tikhonov_cg4_0_0 = minimize(f_tikhonov, x0, method=\"CG\", jac=True, args=(K0, A4_blur0,LAMBDA_TIKHONOV[0])).x\n",
    "deblurred_tikhonov_cg4_1_0 = minimize(f_tikhonov, x0, method=\"CG\", jac=True, args=(K1, A4_blur1,LAMBDA_TIKHONOV[0])).x\n",
    "deblurred_tikhonov_cg4_2_0 = minimize(f_tikhonov, x0, method=\"CG\", jac=True, args=(K2, A4_blur2,LAMBDA_TIKHONOV[0])).x\n",
    "deblurred_tikhonov_cg5_0_0 = minimize(f_tikhonov, x0, method=\"CG\", jac=True, args=(K0, A5_blur0,LAMBDA_TIKHONOV[0])).x\n",
    "deblurred_tikhonov_cg5_1_0 = minimize(f_tikhonov, x0, method=\"CG\", jac=True, args=(K1, A5_blur1,LAMBDA_TIKHONOV[0])).x\n",
    "deblurred_tikhonov_cg5_2_0 = minimize(f_tikhonov, x0, method=\"CG\", jac=True, args=(K2, A5_blur2,LAMBDA_TIKHONOV[0])).x\n",
    "deblurred_tikhonov_cg6_0_0 = minimize(f_tikhonov, x0, method=\"CG\", jac=True, args=(K0, A6_blur0,LAMBDA_TIKHONOV[0])).x\n",
    "deblurred_tikhonov_cg6_1_0 = minimize(f_tikhonov, x0, method=\"CG\", jac=True, args=(K1, A6_blur1,LAMBDA_TIKHONOV[0])).x\n",
    "deblurred_tikhonov_cg6_2_0 = minimize(f_tikhonov, x0, method=\"CG\", jac=True, args=(K2, A6_blur2,LAMBDA_TIKHONOV[0])).x\n",
    "deblurred_tikhonov_cg7_0_0 = minimize(f_tikhonov, x0, method=\"CG\", jac=True, args=(K0, A7_blur0,LAMBDA_TIKHONOV[0])).x\n",
    "deblurred_tikhonov_cg7_1_0 = minimize(f_tikhonov, x0, method=\"CG\", jac=True, args=(K1, A7_blur1,LAMBDA_TIKHONOV[0])).x\n",
    "deblurred_tikhonov_cg7_2_0 = minimize(f_tikhonov, x0, method=\"CG\", jac=True, args=(K2, A7_blur2,LAMBDA_TIKHONOV[0])).x"
   ]
  },
  {
   "cell_type": "code",
   "execution_count": null,
   "metadata": {},
   "outputs": [],
   "source": [
    "#parametro di regolarizzazione II\n",
    "deblurred_tikhonov_cg0_0_1 = minimize(f_tikhonov, x0, method=\"CG\", jac=True, args=(K0, A0_blur0,LAMBDA_TIKHONOV[1])).x\n",
    "deblurred_tikhonov_cg0_1_1 = minimize(f_tikhonov, x0, method=\"CG\", jac=True, args=(K1, A0_blur1,LAMBDA_TIKHONOV[1])).x\n",
    "deblurred_tikhonov_cg0_2_1 = minimize(f_tikhonov, x0, method=\"CG\", jac=True, args=(K2, A0_blur2,LAMBDA_TIKHONOV[1])).x\n",
    "deblurred_tikhonov_cg1_0_1 = minimize(f_tikhonov, x0, method=\"CG\", jac=True, args=(K0, A1_blur0,LAMBDA_TIKHONOV[1])).x\n",
    "deblurred_tikhonov_cg1_1_1 = minimize(f_tikhonov, x0, method=\"CG\", jac=True, args=(K1, A1_blur1,LAMBDA_TIKHONOV[1])).x\n",
    "deblurred_tikhonov_cg1_2_1 = minimize(f_tikhonov, x0, method=\"CG\", jac=True, args=(K2, A1_blur2,LAMBDA_TIKHONOV[1])).x\n",
    "deblurred_tikhonov_cg2_0_1 = minimize(f_tikhonov, x0, method=\"CG\", jac=True, args=(K0, A2_blur0,LAMBDA_TIKHONOV[1])).x\n",
    "deblurred_tikhonov_cg2_1_1 = minimize(f_tikhonov, x0, method=\"CG\", jac=True, args=(K1, A2_blur1,LAMBDA_TIKHONOV[1])).x\n",
    "deblurred_tikhonov_cg2_2_1 = minimize(f_tikhonov, x0, method=\"CG\", jac=True, args=(K2, A2_blur2,LAMBDA_TIKHONOV[1])).x\n",
    "deblurred_tikhonov_cg3_0_1 = minimize(f_tikhonov, x0, method=\"CG\", jac=True, args=(K0, A3_blur0,LAMBDA_TIKHONOV[1])).x\n",
    "deblurred_tikhonov_cg3_1_1 = minimize(f_tikhonov, x0, method=\"CG\", jac=True, args=(K1, A3_blur1,LAMBDA_TIKHONOV[1])).x\n",
    "deblurred_tikhonov_cg3_2_1 = minimize(f_tikhonov, x0, method=\"CG\", jac=True, args=(K2, A3_blur2,LAMBDA_TIKHONOV[1])).x\n",
    "deblurred_tikhonov_cg4_0_1 = minimize(f_tikhonov, x0, method=\"CG\", jac=True, args=(K0, A4_blur0,LAMBDA_TIKHONOV[1])).x\n",
    "deblurred_tikhonov_cg4_1_1 = minimize(f_tikhonov, x0, method=\"CG\", jac=True, args=(K1, A4_blur1,LAMBDA_TIKHONOV[1])).x\n",
    "deblurred_tikhonov_cg4_2_1 = minimize(f_tikhonov, x0, method=\"CG\", jac=True, args=(K2, A4_blur2,LAMBDA_TIKHONOV[1])).x\n",
    "deblurred_tikhonov_cg5_0_1 = minimize(f_tikhonov, x0, method=\"CG\", jac=True, args=(K0, A5_blur0,LAMBDA_TIKHONOV[1])).x\n",
    "deblurred_tikhonov_cg5_1_1 = minimize(f_tikhonov, x0, method=\"CG\", jac=True, args=(K1, A5_blur1,LAMBDA_TIKHONOV[1])).x\n",
    "deblurred_tikhonov_cg5_2_1 = minimize(f_tikhonov, x0, method=\"CG\", jac=True, args=(K2, A5_blur2,LAMBDA_TIKHONOV[1])).x\n",
    "deblurred_tikhonov_cg6_0_1 = minimize(f_tikhonov, x0, method=\"CG\", jac=True, args=(K0, A6_blur0,LAMBDA_TIKHONOV[1])).x\n",
    "deblurred_tikhonov_cg6_1_1 = minimize(f_tikhonov, x0, method=\"CG\", jac=True, args=(K1, A6_blur1,LAMBDA_TIKHONOV[1])).x\n",
    "deblurred_tikhonov_cg6_2_1 = minimize(f_tikhonov, x0, method=\"CG\", jac=True, args=(K2, A6_blur2,LAMBDA_TIKHONOV[1])).x\n",
    "deblurred_tikhonov_cg7_0_1 = minimize(f_tikhonov, x0, method=\"CG\", jac=True, args=(K0, A7_blur0,LAMBDA_TIKHONOV[1])).x\n",
    "deblurred_tikhonov_cg7_1_1 = minimize(f_tikhonov, x0, method=\"CG\", jac=True, args=(K1, A7_blur1,LAMBDA_TIKHONOV[1])).x\n",
    "deblurred_tikhonov_cg7_2_1 = minimize(f_tikhonov, x0, method=\"CG\", jac=True, args=(K2, A7_blur2,LAMBDA_TIKHONOV[1])).x"
   ]
  },
  {
   "cell_type": "code",
   "execution_count": null,
   "metadata": {},
   "outputs": [],
   "source": [
    "#parametro di regolarizzazione III\n",
    "deblurred_tikhonov_cg0_0_2 = minimize(f_tikhonov, x0, method=\"CG\", jac=True, args=(K0, A0_blur0,LAMBDA_TIKHONOV[2])).x\n",
    "deblurred_tikhonov_cg0_1_2 = minimize(f_tikhonov, x0, method=\"CG\", jac=True, args=(K1, A0_blur1,LAMBDA_TIKHONOV[2])).x\n",
    "deblurred_tikhonov_cg0_2_2 = minimize(f_tikhonov, x0, method=\"CG\", jac=True, args=(K2, A0_blur2,LAMBDA_TIKHONOV[2])).x\n",
    "deblurred_tikhonov_cg1_0_2 = minimize(f_tikhonov, x0, method=\"CG\", jac=True, args=(K0, A1_blur0,LAMBDA_TIKHONOV[2])).x\n",
    "deblurred_tikhonov_cg1_1_2 = minimize(f_tikhonov, x0, method=\"CG\", jac=True, args=(K1, A1_blur1,LAMBDA_TIKHONOV[2])).x\n",
    "deblurred_tikhonov_cg1_2_2 = minimize(f_tikhonov, x0, method=\"CG\", jac=True, args=(K2, A1_blur2,LAMBDA_TIKHONOV[2])).x\n",
    "deblurred_tikhonov_cg2_0_2 = minimize(f_tikhonov, x0, method=\"CG\", jac=True, args=(K0, A2_blur0,LAMBDA_TIKHONOV[2])).x\n",
    "deblurred_tikhonov_cg2_1_2 = minimize(f_tikhonov, x0, method=\"CG\", jac=True, args=(K1, A2_blur1,LAMBDA_TIKHONOV[2])).x\n",
    "deblurred_tikhonov_cg2_2_2 = minimize(f_tikhonov, x0, method=\"CG\", jac=True, args=(K2, A2_blur2,LAMBDA_TIKHONOV[2])).x\n",
    "deblurred_tikhonov_cg3_0_2 = minimize(f_tikhonov, x0, method=\"CG\", jac=True, args=(K0, A3_blur0,LAMBDA_TIKHONOV[2])).x\n",
    "deblurred_tikhonov_cg3_1_2 = minimize(f_tikhonov, x0, method=\"CG\", jac=True, args=(K1, A3_blur1,LAMBDA_TIKHONOV[2])).x\n",
    "deblurred_tikhonov_cg3_2_2 = minimize(f_tikhonov, x0, method=\"CG\", jac=True, args=(K2, A3_blur2,LAMBDA_TIKHONOV[2])).x\n",
    "deblurred_tikhonov_cg4_0_2 = minimize(f_tikhonov, x0, method=\"CG\", jac=True, args=(K0, A4_blur0,LAMBDA_TIKHONOV[2])).x\n",
    "deblurred_tikhonov_cg4_1_2 = minimize(f_tikhonov, x0, method=\"CG\", jac=True, args=(K1, A4_blur1,LAMBDA_TIKHONOV[2])).x\n",
    "deblurred_tikhonov_cg4_2_2 = minimize(f_tikhonov, x0, method=\"CG\", jac=True, args=(K2, A4_blur2,LAMBDA_TIKHONOV[2])).x\n",
    "deblurred_tikhonov_cg5_0_2 = minimize(f_tikhonov, x0, method=\"CG\", jac=True, args=(K0, A5_blur0,LAMBDA_TIKHONOV[2])).x\n",
    "deblurred_tikhonov_cg5_1_2 = minimize(f_tikhonov, x0, method=\"CG\", jac=True, args=(K1, A5_blur1,LAMBDA_TIKHONOV[2])).x\n",
    "deblurred_tikhonov_cg5_2_2 = minimize(f_tikhonov, x0, method=\"CG\", jac=True, args=(K2, A5_blur2,LAMBDA_TIKHONOV[2])).x\n",
    "deblurred_tikhonov_cg6_0_2 = minimize(f_tikhonov, x0, method=\"CG\", jac=True, args=(K0, A6_blur0,LAMBDA_TIKHONOV[2])).x\n",
    "deblurred_tikhonov_cg6_1_2 = minimize(f_tikhonov, x0, method=\"CG\", jac=True, args=(K1, A6_blur1,LAMBDA_TIKHONOV[2])).x\n",
    "deblurred_tikhonov_cg6_2_2 = minimize(f_tikhonov, x0, method=\"CG\", jac=True, args=(K2, A6_blur2,LAMBDA_TIKHONOV[2])).x\n",
    "deblurred_tikhonov_cg7_0_2 = minimize(f_tikhonov, x0, method=\"CG\", jac=True, args=(K0, A7_blur0,LAMBDA_TIKHONOV[2])).x\n",
    "deblurred_tikhonov_cg7_1_2 = minimize(f_tikhonov, x0, method=\"CG\", jac=True, args=(K1, A7_blur1,LAMBDA_TIKHONOV[2])).x\n",
    "deblurred_tikhonov_cg7_2_2 = minimize(f_tikhonov, x0, method=\"CG\", jac=True, args=(K2, A7_blur2,LAMBDA_TIKHONOV[2])).x"
   ]
  },
  {
   "cell_type": "code",
   "execution_count": 15,
   "metadata": {},
   "outputs": [],
   "source": [
    "def f_tikhonov_gradiente(x,K,b,lmbd):  #funzione per GD\n",
    "    x = np.reshape(x, (512,512))\n",
    "    f = 0.5*(np.linalg.norm(A(x,K)-b,2)**2 + lmbd*np.linalg.norm(x,2)**2)\n",
    "    return f\n",
    "\n",
    "def grad_f_tikhonov(x,K,b,lmbd):    #gradiente per GD\n",
    "    x = np.reshape(x, (512,512))\n",
    "    df = AT(A(x,K), K) - AT(b,K) + lmbd*x\n",
    "    return df.flatten()\n"
   ]
  },
  {
   "cell_type": "code",
   "execution_count": 16,
   "metadata": {},
   "outputs": [],
   "source": [
    "def next_step(x,grad,f,K,b,lmbd): # backtracking procedure for the choice of the steplength\n",
    "  alpha=1.1\n",
    "  rho = 0.5\n",
    "  c1 = 0.25\n",
    "  p=-grad\n",
    "  j=0\n",
    "  jmax=100\n",
    "  while ((f(x+alpha*p,K,b,lmbd) > f(x,K,b,lmbd)+c1*alpha*(grad.T@p)) and j<jmax ):\n",
    "    alpha= rho*alpha\n",
    "    j+=1\n",
    "  if (j>jmax):\n",
    "    return -1\n",
    "  else:\n",
    "    #print('alpha=',alpha)\n",
    "    return alpha"
   ]
  },
  {
   "cell_type": "code",
   "execution_count": 17,
   "metadata": {},
   "outputs": [],
   "source": [
    "def metodo_gradiente(x0,xTrue,f,grad_f,K,b,lmbd,step,MAXITERATION,ABSOLUTE_STOP): # funzione che implementa il metodo del gradiente\n",
    "  #declare x_k and gradient_k vectors\n",
    "  norm_grad_list=np.zeros((1,MAXITERATION+1))\n",
    "  function_eval_list=np.zeros((1,MAXITERATION+1))\n",
    "  error_list=np.zeros((1,MAXITERATION+1))\n",
    "  \n",
    "  #initialize first values\n",
    "  x_last = x0 \n",
    "  \n",
    "  k=0\n",
    "\n",
    "  function_eval_list[:,k]=f(x0,K,b,lmbd)#x_last[0], x_last[1])\n",
    "  error_list[:,k]=np.linalg.norm(x_last-xTrue)\n",
    "  norm_grad_list[:,k]=np.linalg.norm(grad_f(x_last,K,b,lmbd))\n",
    "\n",
    "  while (np.linalg.norm(grad_f(x_last,K,b,lmbd),2)>ABSOLUTE_STOP and k < MAXITERATION ):\n",
    "    #print(f(x_last))\n",
    "    k=k+1\n",
    "    grad = np.transpose(grad_f(x_last,K,b,lmbd)) # TODO direction is given by gradient of the last iteration\n",
    "\n",
    "    # backtracking step\n",
    "    step = next_step(x_last,grad,f,K,b,lmbd) # TODO\n",
    "    # Fixed step\n",
    "    #step = 0.1\n",
    "    \n",
    "    if(step==-1):\n",
    "      print('non convergente')\n",
    "      return (iteration) # no convergence\n",
    "\n",
    "    x_last= x_last - step*grad # TODO gradient update\n",
    "\n",
    "    function_eval_list[:,k]=f(x_last,K,b,lmbd)\n",
    "    error_list[:,k]=np.linalg.norm(x_last-xTrue)\n",
    "    norm_grad_list[:,k]=np.linalg.norm(grad_f(x_last,K,b,lmbd))\n",
    "\n",
    "  function_eval_list = function_eval_list[:,:k+1]\n",
    "  error_list = error_list[:,:k+1]\n",
    "  norm_grad_list = norm_grad_list[:,:k+1]\n",
    "  \n",
    "  print('iterations=',k)\n",
    "  return (x_last,norm_grad_list, function_eval_list, error_list, k)"
   ]
  },
  {
   "cell_type": "code",
   "execution_count": 18,
   "metadata": {},
   "outputs": [
    {
     "name": "stdout",
     "output_type": "stream",
     "text": [
      "CPU times: user 4.51 ms, sys: 0 ns, total: 4.51 ms\n",
      "Wall time: 2.77 ms\n"
     ]
    }
   ],
   "source": [
    "%%time\n",
    "step=0.1\n",
    "MAXITERATIONS=30\n",
    "ABSOLUTE_STOP=1e-3\n",
    "\n",
    "x0 = np.ones((512,512)).flatten()"
   ]
  },
  {
   "cell_type": "code",
   "execution_count": null,
   "metadata": {},
   "outputs": [],
   "source": [
    "#GD Tik lambda I\n",
    "(x_last0_0_0,norm_grad_list0_0_0, function_eval_list0_0_0, error_list0_0_0, k0_0_0) = metodo_gradiente(x0,A0.flatten(),f_tikhonov_gradiente,grad_f_tikhonov,K0,A0_blur0,LAMBDA_TIKHONOV[0],step,MAXITERATIONS,ABSOLUTE_STOP)\n",
    "(x_last0_1_0,norm_grad_list0_1_0, function_eval_list0_1_0, error_list0_1_0, k0_1_0) = metodo_gradiente(x0,A0.flatten(),f_tikhonov_gradiente,grad_f_tikhonov,K1,A0_blur1,LAMBDA_TIKHONOV[0],step,MAXITERATIONS,ABSOLUTE_STOP)\n",
    "(x_last0_2_0,norm_grad_list0_2_0, function_eval_list0_2_0, error_list0_2_0, k0_2_0) = metodo_gradiente(x0,A0.flatten(),f_tikhonov_gradiente,grad_f_tikhonov,K2,A0_blur2,LAMBDA_TIKHONOV[0],step,MAXITERATIONS,ABSOLUTE_STOP)\n",
    "(x_last1_0_0,norm_grad_list1_0_0, function_eval_list1_0_0, error_list1_0_0, k1_0_0) = metodo_gradiente(x0,A1.flatten(),f_tikhonov_gradiente,grad_f_tikhonov,K0,A1_blur0,LAMBDA_TIKHONOV[0],step,MAXITERATIONS,ABSOLUTE_STOP)\n",
    "(x_last1_1_0,norm_grad_list1_1_0, function_eval_list1_1_0, error_list1_1_0, k1_1_0) = metodo_gradiente(x0,A1.flatten(),f_tikhonov_gradiente,grad_f_tikhonov,K1,A1_blur1,LAMBDA_TIKHONOV[0],step,MAXITERATIONS,ABSOLUTE_STOP)\n",
    "(x_last1_2_0,norm_grad_list1_2_0, function_eval_list1_2_0, error_list1_2_0, k1_2_0) = metodo_gradiente(x0,A1.flatten(),f_tikhonov_gradiente,grad_f_tikhonov,K2,A1_blur2,LAMBDA_TIKHONOV[0],step,MAXITERATIONS,ABSOLUTE_STOP)\n",
    "(x_last2_0_0,norm_grad_list2_0_0, function_eval_list2_0_0, error_list2_0_0, k2_0_0) = metodo_gradiente(x0,A2.flatten(),f_tikhonov_gradiente,grad_f_tikhonov,K0,A2_blur0,LAMBDA_TIKHONOV[0],step,MAXITERATIONS,ABSOLUTE_STOP)\n",
    "(x_last2_1_0,norm_grad_list2_1_0, function_eval_list2_1_0, error_list2_1_0, k2_1_0) = metodo_gradiente(x0,A2.flatten(),f_tikhonov_gradiente,grad_f_tikhonov,K1,A2_blur1,LAMBDA_TIKHONOV[0],step,MAXITERATIONS,ABSOLUTE_STOP)\n",
    "(x_last2_2_0,norm_grad_list2_2_0, function_eval_list2_2_0, error_list2_2_0, k2_2_0) = metodo_gradiente(x0,A2.flatten(),f_tikhonov_gradiente,grad_f_tikhonov,K2,A2_blur2,LAMBDA_TIKHONOV[0],step,MAXITERATIONS,ABSOLUTE_STOP)\n",
    "(x_last3_0_0,norm_grad_list3_0_0, function_eval_list3_0_0, error_list3_0_0, k3_0_0) = metodo_gradiente(x0,A3.flatten(),f_tikhonov_gradiente,grad_f_tikhonov,K0,A3_blur0,LAMBDA_TIKHONOV[0],step,MAXITERATIONS,ABSOLUTE_STOP)\n",
    "(x_last3_1_0,norm_grad_list3_1_0, function_eval_list3_1_0, error_list3_1_0, k3_1_0) = metodo_gradiente(x0,A3.flatten(),f_tikhonov_gradiente,grad_f_tikhonov,K1,A3_blur1,LAMBDA_TIKHONOV[0],step,MAXITERATIONS,ABSOLUTE_STOP)\n",
    "(x_last3_2_0,norm_grad_list3_2_0, function_eval_list3_2_0, error_list3_2_0, k3_2_0) = metodo_gradiente(x0,A3.flatten(),f_tikhonov_gradiente,grad_f_tikhonov,K2,A3_blur2,LAMBDA_TIKHONOV[0],step,MAXITERATIONS,ABSOLUTE_STOP)\n",
    "(x_last4_0_0,norm_grad_list4_0_0, function_eval_list4_0_0, error_list4_0_0, k4_0_0) = metodo_gradiente(x0,A4.flatten(),f_tikhonov_gradiente,grad_f_tikhonov,K0,A4_blur0,LAMBDA_TIKHONOV[0],step,MAXITERATIONS,ABSOLUTE_STOP)\n",
    "(x_last4_1_0,norm_grad_list4_1_0, function_eval_list4_1_0, error_list4_1_0, k4_1_0) = metodo_gradiente(x0,A4.flatten(),f_tikhonov_gradiente,grad_f_tikhonov,K1,A4_blur1,LAMBDA_TIKHONOV[0],step,MAXITERATIONS,ABSOLUTE_STOP)\n",
    "(x_last4_2_0,norm_grad_list4_2_0, function_eval_list4_2_0, error_list4_2_0, k4_2_0) = metodo_gradiente(x0,A4.flatten(),f_tikhonov_gradiente,grad_f_tikhonov,K2,A4_blur2,LAMBDA_TIKHONOV[0],step,MAXITERATIONS,ABSOLUTE_STOP)\n",
    "(x_last5_0_0,norm_grad_list5_0_0, function_eval_list5_0_0, error_list5_0_0, k5_0_0) = metodo_gradiente(x0,A5.flatten(),f_tikhonov_gradiente,grad_f_tikhonov,K0,A5_blur0,LAMBDA_TIKHONOV[0],step,MAXITERATIONS,ABSOLUTE_STOP)\n",
    "(x_last5_1_0,norm_grad_list5_1_0, function_eval_list5_1_0, error_list5_1_0, k5_1_0) = metodo_gradiente(x0,A5.flatten(),f_tikhonov_gradiente,grad_f_tikhonov,K1,A5_blur1,LAMBDA_TIKHONOV[0],step,MAXITERATIONS,ABSOLUTE_STOP)\n",
    "(x_last5_2_0,norm_grad_list5_2_0, function_eval_list5_2_0, error_list5_2_0, k5_2_0) = metodo_gradiente(x0,A5.flatten(),f_tikhonov_gradiente,grad_f_tikhonov,K2,A5_blur2,LAMBDA_TIKHONOV[0],step,MAXITERATIONS,ABSOLUTE_STOP)\n",
    "(x_last6_0_0,norm_grad_list6_0_0, function_eval_list6_0_0, error_list6_0_0, k6_0_0) = metodo_gradiente(x0,A6.flatten(),f_tikhonov_gradiente,grad_f_tikhonov,K0,A6_blur0,LAMBDA_TIKHONOV[0],step,MAXITERATIONS,ABSOLUTE_STOP)\n",
    "(x_last6_1_0,norm_grad_list6_1_0, function_eval_list6_1_0, error_list6_1_0, k6_1_0) = metodo_gradiente(x0,A6.flatten(),f_tikhonov_gradiente,grad_f_tikhonov,K1,A6_blur1,LAMBDA_TIKHONOV[0],step,MAXITERATIONS,ABSOLUTE_STOP)\n",
    "(x_last6_2_0,norm_grad_list6_2_0, function_eval_list6_2_0, error_list6_2_0, k6_2_0) = metodo_gradiente(x0,A6.flatten(),f_tikhonov_gradiente,grad_f_tikhonov,K2,A6_blur2,LAMBDA_TIKHONOV[0],step,MAXITERATIONS,ABSOLUTE_STOP)\n",
    "(x_last7_0_0,norm_grad_list7_0_0, function_eval_list7_0_0, error_list7_0_0, k7_0_0) = metodo_gradiente(x0,A7.flatten(),f_tikhonov_gradiente,grad_f_tikhonov,K0,A7_blur0,LAMBDA_TIKHONOV[0],step,MAXITERATIONS,ABSOLUTE_STOP)\n",
    "(x_last7_1_0,norm_grad_list7_1_0, function_eval_list7_1_0, error_list7_1_0, k7_1_0) = metodo_gradiente(x0,A7.flatten(),f_tikhonov_gradiente,grad_f_tikhonov,K1,A7_blur1,LAMBDA_TIKHONOV[0],step,MAXITERATIONS,ABSOLUTE_STOP)\n",
    "(x_last7_2_0,norm_grad_list7_2_0, function_eval_list7_2_0, error_list7_2_0, k7_2_0) = metodo_gradiente(x0,A7.flatten(),f_tikhonov_gradiente,grad_f_tikhonov,K2,A7_blur2,LAMBDA_TIKHONOV[0],step,MAXITERATIONS,ABSOLUTE_STOP)"
   ]
  },
  {
   "cell_type": "code",
   "execution_count": null,
   "metadata": {},
   "outputs": [],
   "source": [
    "#GD Tik lambda II\n",
    "(x_last0_0_1,norm_grad_list0_0_1, function_eval_list0_0_1, error_list0_0_1, k0_0_1) = metodo_gradiente(x0,A0.flatten(),f_tikhonov_gradiente,grad_f_tikhonov,K0,A0_blur0,LAMBDA_TIKHONOV[1],step,MAXITERATIONS,ABSOLUTE_STOP)\n",
    "(x_last0_1_1,norm_grad_list0_1_1, function_eval_list0_1_1, error_list0_1_1, k0_1_1) = metodo_gradiente(x0,A0.flatten(),f_tikhonov_gradiente,grad_f_tikhonov,K1,A0_blur1,LAMBDA_TIKHONOV[1],step,MAXITERATIONS,ABSOLUTE_STOP)\n",
    "(x_last0_2_1,norm_grad_list0_2_1, function_eval_list0_2_1, error_list0_2_1, k0_2_1) = metodo_gradiente(x0,A0.flatten(),f_tikhonov_gradiente,grad_f_tikhonov,K2,A0_blur2,LAMBDA_TIKHONOV[1],step,MAXITERATIONS,ABSOLUTE_STOP)\n",
    "(x_last1_0_1,norm_grad_list1_0_1, function_eval_list1_0_1, error_list1_0_1, k1_0_1) = metodo_gradiente(x0,A1.flatten(),f_tikhonov_gradiente,grad_f_tikhonov,K0,A1_blur0,LAMBDA_TIKHONOV[1],step,MAXITERATIONS,ABSOLUTE_STOP)\n",
    "(x_last1_1_1,norm_grad_list1_1_1, function_eval_list1_1_1, error_list1_1_1, k1_1_1) = metodo_gradiente(x0,A1.flatten(),f_tikhonov_gradiente,grad_f_tikhonov,K1,A1_blur1,LAMBDA_TIKHONOV[1],step,MAXITERATIONS,ABSOLUTE_STOP)\n",
    "(x_last1_2_1,norm_grad_list1_2_1, function_eval_list1_2_1, error_list1_2_1, k1_2_1) = metodo_gradiente(x0,A1.flatten(),f_tikhonov_gradiente,grad_f_tikhonov,K2,A1_blur2,LAMBDA_TIKHONOV[1],step,MAXITERATIONS,ABSOLUTE_STOP)\n",
    "(x_last2_0_1,norm_grad_list2_0_1, function_eval_list2_0_1, error_list2_0_1, k2_0_1) = metodo_gradiente(x0,A2.flatten(),f_tikhonov_gradiente,grad_f_tikhonov,K0,A2_blur0,LAMBDA_TIKHONOV[1],step,MAXITERATIONS,ABSOLUTE_STOP)\n",
    "(x_last2_1_1,norm_grad_list2_1_1, function_eval_list2_1_1, error_list2_1_1, k2_1_1) = metodo_gradiente(x0,A2.flatten(),f_tikhonov_gradiente,grad_f_tikhonov,K1,A2_blur1,LAMBDA_TIKHONOV[1],step,MAXITERATIONS,ABSOLUTE_STOP)\n",
    "(x_last2_2_1,norm_grad_list2_2_1, function_eval_list2_2_1, error_list2_2_1, k2_2_1) = metodo_gradiente(x0,A2.flatten(),f_tikhonov_gradiente,grad_f_tikhonov,K2,A2_blur2,LAMBDA_TIKHONOV[1],step,MAXITERATIONS,ABSOLUTE_STOP)\n",
    "(x_last3_0_1,norm_grad_list3_0_1, function_eval_list3_0_1, error_list3_0_1, k3_0_1) = metodo_gradiente(x0,A3.flatten(),f_tikhonov_gradiente,grad_f_tikhonov,K0,A3_blur0,LAMBDA_TIKHONOV[1],step,MAXITERATIONS,ABSOLUTE_STOP)\n",
    "(x_last3_1_1,norm_grad_list3_1_1, function_eval_list3_1_1, error_list3_1_1, k3_1_1) = metodo_gradiente(x0,A3.flatten(),f_tikhonov_gradiente,grad_f_tikhonov,K1,A3_blur1,LAMBDA_TIKHONOV[1],step,MAXITERATIONS,ABSOLUTE_STOP)\n",
    "(x_last3_2_1,norm_grad_list3_2_1, function_eval_list3_2_1, error_list3_2_1, k3_2_1) = metodo_gradiente(x0,A3.flatten(),f_tikhonov_gradiente,grad_f_tikhonov,K2,A3_blur2,LAMBDA_TIKHONOV[1],step,MAXITERATIONS,ABSOLUTE_STOP)\n",
    "(x_last4_0_1,norm_grad_list4_0_1, function_eval_list4_0_1, error_list4_0_1, k4_0_1) = metodo_gradiente(x0,A4.flatten(),f_tikhonov_gradiente,grad_f_tikhonov,K0,A4_blur0,LAMBDA_TIKHONOV[1],step,MAXITERATIONS,ABSOLUTE_STOP)\n",
    "(x_last4_1_1,norm_grad_list4_1_1, function_eval_list4_1_1, error_list4_1_1, k4_1_1) = metodo_gradiente(x0,A4.flatten(),f_tikhonov_gradiente,grad_f_tikhonov,K1,A4_blur1,LAMBDA_TIKHONOV[1],step,MAXITERATIONS,ABSOLUTE_STOP)\n",
    "(x_last4_2_1,norm_grad_list4_2_1, function_eval_list4_2_1, error_list4_2_1, k4_2_1) = metodo_gradiente(x0,A4.flatten(),f_tikhonov_gradiente,grad_f_tikhonov,K2,A4_blur2,LAMBDA_TIKHONOV[1],step,MAXITERATIONS,ABSOLUTE_STOP)\n",
    "(x_last5_0_1,norm_grad_list5_0_1, function_eval_list5_0_1, error_list5_0_1, k5_0_1) = metodo_gradiente(x0,A5.flatten(),f_tikhonov_gradiente,grad_f_tikhonov,K0,A5_blur0,LAMBDA_TIKHONOV[1],step,MAXITERATIONS,ABSOLUTE_STOP)\n",
    "(x_last5_1_1,norm_grad_list5_1_1, function_eval_list5_1_1, error_list5_1_1, k5_1_1) = metodo_gradiente(x0,A5.flatten(),f_tikhonov_gradiente,grad_f_tikhonov,K1,A5_blur1,LAMBDA_TIKHONOV[1],step,MAXITERATIONS,ABSOLUTE_STOP)\n",
    "(x_last5_2_1,norm_grad_list5_2_1, function_eval_list5_2_1, error_list5_2_1, k5_2_1) = metodo_gradiente(x0,A5.flatten(),f_tikhonov_gradiente,grad_f_tikhonov,K2,A5_blur2,LAMBDA_TIKHONOV[1],step,MAXITERATIONS,ABSOLUTE_STOP)\n",
    "(x_last6_0_1,norm_grad_list6_0_1, function_eval_list6_0_1, error_list6_0_1, k6_0_1) = metodo_gradiente(x0,A6.flatten(),f_tikhonov_gradiente,grad_f_tikhonov,K0,A6_blur0,LAMBDA_TIKHONOV[1],step,MAXITERATIONS,ABSOLUTE_STOP)\n",
    "(x_last6_1_1,norm_grad_list6_1_1, function_eval_list6_1_1, error_list6_1_1, k6_1_1) = metodo_gradiente(x0,A6.flatten(),f_tikhonov_gradiente,grad_f_tikhonov,K1,A6_blur1,LAMBDA_TIKHONOV[1],step,MAXITERATIONS,ABSOLUTE_STOP)\n",
    "(x_last6_2_1,norm_grad_list6_2_1, function_eval_list6_2_1, error_list6_2_1, k6_2_1) = metodo_gradiente(x0,A6.flatten(),f_tikhonov_gradiente,grad_f_tikhonov,K2,A6_blur2,LAMBDA_TIKHONOV[1],step,MAXITERATIONS,ABSOLUTE_STOP)\n",
    "(x_last7_0_1,norm_grad_list7_0_1, function_eval_list7_0_1, error_list7_0_1, k7_0_1) = metodo_gradiente(x0,A7.flatten(),f_tikhonov_gradiente,grad_f_tikhonov,K0,A7_blur0,LAMBDA_TIKHONOV[1],step,MAXITERATIONS,ABSOLUTE_STOP)\n",
    "(x_last7_1_1,norm_grad_list7_1_1, function_eval_list7_1_1, error_list7_1_1, k7_1_1) = metodo_gradiente(x0,A7.flatten(),f_tikhonov_gradiente,grad_f_tikhonov,K1,A7_blur1,LAMBDA_TIKHONOV[1],step,MAXITERATIONS,ABSOLUTE_STOP)\n",
    "(x_last7_2_1,norm_grad_list7_2_1, function_eval_list7_2_1, error_list7_2_1, k7_2_1) = metodo_gradiente(x0,A7.flatten(),f_tikhonov_gradiente,grad_f_tikhonov,K2,A7_blur2,LAMBDA_TIKHONOV[1],step,MAXITERATIONS,ABSOLUTE_STOP)\n"
   ]
  },
  {
   "cell_type": "code",
   "execution_count": null,
   "metadata": {},
   "outputs": [],
   "source": [
    "#GD Tik lambda III\n",
    "(x_last0_0_2,norm_grad_list0_0_2, function_eval_list0_0_2, error_list0_0_2, k0_0_2) = metodo_gradiente(x0,A0.flatten(),f_tikhonov_gradiente,grad_f_tikhonov,K0,A0_blur0,LAMBDA_TIKHONOV[2],step,MAXITERATIONS,ABSOLUTE_STOP)\n",
    "(x_last0_1_2,norm_grad_list0_1_2, function_eval_list0_1_2, error_list0_1_2, k0_1_2) = metodo_gradiente(x0,A0.flatten(),f_tikhonov_gradiente,grad_f_tikhonov,K1,A0_blur1,LAMBDA_TIKHONOV[2],step,MAXITERATIONS,ABSOLUTE_STOP)\n",
    "(x_last0_2_2,norm_grad_list0_2_2, function_eval_list0_2_2, error_list0_2_2, k0_2_2) = metodo_gradiente(x0,A0.flatten(),f_tikhonov_gradiente,grad_f_tikhonov,K2,A0_blur2,LAMBDA_TIKHONOV[2],step,MAXITERATIONS,ABSOLUTE_STOP)\n",
    "(x_last1_0_2,norm_grad_list1_0_2, function_eval_list1_0_2, error_list1_0_2, k1_0_2) = metodo_gradiente(x0,A1.flatten(),f_tikhonov_gradiente,grad_f_tikhonov,K0,A1_blur0,LAMBDA_TIKHONOV[2],step,MAXITERATIONS,ABSOLUTE_STOP)\n",
    "(x_last1_1_2,norm_grad_list1_1_2, function_eval_list1_1_2, error_list1_1_2, k1_1_2) = metodo_gradiente(x0,A1.flatten(),f_tikhonov_gradiente,grad_f_tikhonov,K1,A1_blur1,LAMBDA_TIKHONOV[2],step,MAXITERATIONS,ABSOLUTE_STOP)\n",
    "(x_last1_2_2,norm_grad_list1_2_2, function_eval_list1_2_2, error_list1_2_2, k1_2_2) = metodo_gradiente(x0,A1.flatten(),f_tikhonov_gradiente,grad_f_tikhonov,K2,A1_blur2,LAMBDA_TIKHONOV[2],step,MAXITERATIONS,ABSOLUTE_STOP)\n",
    "(x_last2_0_2,norm_grad_list2_0_2, function_eval_list2_0_2, error_list2_0_2, k2_0_2) = metodo_gradiente(x0,A2.flatten(),f_tikhonov_gradiente,grad_f_tikhonov,K0,A2_blur0,LAMBDA_TIKHONOV[2],step,MAXITERATIONS,ABSOLUTE_STOP)\n",
    "(x_last2_1_2,norm_grad_list2_1_2, function_eval_list2_1_2, error_list2_1_2, k2_1_2) = metodo_gradiente(x0,A2.flatten(),f_tikhonov_gradiente,grad_f_tikhonov,K1,A2_blur1,LAMBDA_TIKHONOV[2],step,MAXITERATIONS,ABSOLUTE_STOP)\n",
    "(x_last2_2_2,norm_grad_list2_2_2, function_eval_list2_2_2, error_list2_2_2, k2_2_2) = metodo_gradiente(x0,A2.flatten(),f_tikhonov_gradiente,grad_f_tikhonov,K2,A2_blur2,LAMBDA_TIKHONOV[2],step,MAXITERATIONS,ABSOLUTE_STOP)\n",
    "(x_last3_0_2,norm_grad_list3_0_2, function_eval_list3_0_2, error_list3_0_2, k3_0_2) = metodo_gradiente(x0,A3.flatten(),f_tikhonov_gradiente,grad_f_tikhonov,K0,A3_blur0,LAMBDA_TIKHONOV[2],step,MAXITERATIONS,ABSOLUTE_STOP)\n",
    "(x_last3_1_2,norm_grad_list3_1_2, function_eval_list3_1_2, error_list3_1_2, k3_1_2) = metodo_gradiente(x0,A3.flatten(),f_tikhonov_gradiente,grad_f_tikhonov,K1,A3_blur1,LAMBDA_TIKHONOV[2],step,MAXITERATIONS,ABSOLUTE_STOP)\n",
    "(x_last3_2_2,norm_grad_list3_2_2, function_eval_list3_2_2, error_list3_2_2, k3_2_2) = metodo_gradiente(x0,A3.flatten(),f_tikhonov_gradiente,grad_f_tikhonov,K2,A3_blur2,LAMBDA_TIKHONOV[2],step,MAXITERATIONS,ABSOLUTE_STOP)\n",
    "(x_last4_0_2,norm_grad_list4_0_2, function_eval_list4_0_2, error_list4_0_2, k4_0_2) = metodo_gradiente(x0,A4.flatten(),f_tikhonov_gradiente,grad_f_tikhonov,K0,A4_blur0,LAMBDA_TIKHONOV[2],step,MAXITERATIONS,ABSOLUTE_STOP)\n",
    "(x_last4_1_2,norm_grad_list4_1_2, function_eval_list4_1_2, error_list4_1_2, k4_1_2) = metodo_gradiente(x0,A4.flatten(),f_tikhonov_gradiente,grad_f_tikhonov,K1,A4_blur1,LAMBDA_TIKHONOV[2],step,MAXITERATIONS,ABSOLUTE_STOP)\n",
    "(x_last4_2_2,norm_grad_list4_2_2, function_eval_list4_2_2, error_list4_2_2, k4_2_2) = metodo_gradiente(x0,A4.flatten(),f_tikhonov_gradiente,grad_f_tikhonov,K2,A4_blur2,LAMBDA_TIKHONOV[2],step,MAXITERATIONS,ABSOLUTE_STOP)\n",
    "(x_last5_0_2,norm_grad_list5_0_2, function_eval_list5_0_2, error_list5_0_2, k5_0_2) = metodo_gradiente(x0,A5.flatten(),f_tikhonov_gradiente,grad_f_tikhonov,K0,A5_blur0,LAMBDA_TIKHONOV[2],step,MAXITERATIONS,ABSOLUTE_STOP)\n",
    "(x_last5_1_2,norm_grad_list5_1_2, function_eval_list5_1_2, error_list5_1_2, k5_1_2) = metodo_gradiente(x0,A5.flatten(),f_tikhonov_gradiente,grad_f_tikhonov,K1,A5_blur1,LAMBDA_TIKHONOV[2],step,MAXITERATIONS,ABSOLUTE_STOP)\n",
    "(x_last5_2_2,norm_grad_list5_2_2, function_eval_list5_2_2, error_list5_2_2, k5_2_2) = metodo_gradiente(x0,A5.flatten(),f_tikhonov_gradiente,grad_f_tikhonov,K2,A5_blur2,LAMBDA_TIKHONOV[2],step,MAXITERATIONS,ABSOLUTE_STOP)\n",
    "(x_last6_0_2,norm_grad_list6_0_2, function_eval_list6_0_2, error_list6_0_2, k6_0_2) = metodo_gradiente(x0,A6.flatten(),f_tikhonov_gradiente,grad_f_tikhonov,K0,A6_blur0,LAMBDA_TIKHONOV[2],step,MAXITERATIONS,ABSOLUTE_STOP)\n",
    "(x_last6_1_2,norm_grad_list6_1_2, function_eval_list6_1_2, error_list6_1_2, k6_1_2) = metodo_gradiente(x0,A6.flatten(),f_tikhonov_gradiente,grad_f_tikhonov,K1,A6_blur1,LAMBDA_TIKHONOV[2],step,MAXITERATIONS,ABSOLUTE_STOP)\n",
    "(x_last6_2_2,norm_grad_list6_2_2, function_eval_list6_2_2, error_list6_2_2, k6_2_2) = metodo_gradiente(x0,A6.flatten(),f_tikhonov_gradiente,grad_f_tikhonov,K2,A6_blur2,LAMBDA_TIKHONOV[2],step,MAXITERATIONS,ABSOLUTE_STOP)\n",
    "(x_last7_0_2,norm_grad_list7_0_2, function_eval_list7_0_2, error_list7_0_2, k7_0_2) = metodo_gradiente(x0,A7.flatten(),f_tikhonov_gradiente,grad_f_tikhonov,K0,A7_blur0,LAMBDA_TIKHONOV[2],step,MAXITERATIONS,ABSOLUTE_STOP)\n",
    "(x_last7_1_2,norm_grad_list7_1_2, function_eval_list7_1_2, error_list7_1_2, k7_1_2) = metodo_gradiente(x0,A7.flatten(),f_tikhonov_gradiente,grad_f_tikhonov,K1,A7_blur1,LAMBDA_TIKHONOV[2],step,MAXITERATIONS,ABSOLUTE_STOP)\n",
    "(x_last7_2_2,norm_grad_list7_2_2, function_eval_list7_2_2, error_list7_2_2, k7_2_2) = metodo_gradiente(x0,A7.flatten(),f_tikhonov_gradiente,grad_f_tikhonov,K2,A7_blur2,LAMBDA_TIKHONOV[2],step,MAXITERATIONS,ABSOLUTE_STOP)"
   ]
  },
  {
   "cell_type": "markdown",
   "metadata": {
    "id": "_aCu4wdBS5OF"
   },
   "source": [
    "## 4) Variazione Totale (Facoltativo) \n",
    "\n",
    "Un altra funzione adatta come termine di regolarizzazione è la Variazione Totale. Data $u$ immagine di dimensioni $m\\times n$ la variazione totale $TV$ di $u$ è definit come:\n",
    "\\begin{align*}\n",
    "  TV(u) = \\sum_i^n{\\sum_j^m{\\sqrt{||\\nabla u(i, j)||_2^2 + \\epsilon^2}}}\n",
    "\\end{align*}\n",
    "Per calcolare il gradiente dell'immagine $\\nabla u$ usiamo la funzione `np.gradient` che approssima la derivata per ogni pixel calcolando la differenza tra pixel adiacenti. I risultati sono due immagini della stessa dimensione dell'immagine in input, una che rappresenta il valore della derivata orizzontale `dx` e l'altra della derivata verticale `dy`. Il gradiente dell'immagine nel punto $(i, j)$ è quindi un vettore di due componenti, uno orizzontale contenuto in `dx` e uno verticale in `dy`.\n",
    "\n",
    "Come nei casi precedenti il problema di minimo che si va a risolvere è il seguente:\n",
    "\\begin{align*}\n",
    "  x^* = \\arg\\min_x \\frac{1}{2} ||Ax - b||_2^2 + \\lambda TV(u)\n",
    "\\end{align*}\n",
    "il cui gradiente $\\nabla f$ è dato da\n",
    "\\begin{align*}\n",
    "\\nabla f(x) = (A^TAx - A^Tb)  + \\lambda \\nabla TV(x)\n",
    "\\end{align*}\n",
    "\n",
    "Utilizzando il metodo del gradiente implementato a lezione, calcolare la soluzione del precendente problema di minimo regolarizzato per differenti valori di $\\lambda$. \n",
    "\n",
    "\n",
    "---\n",
    "Per risolvere il problema di minimo è necessario anche calcolare il gradiente della variazione totale che è definito nel modo seguente\n",
    "\\begin{align*}\n",
    "  \\nabla TV(u) = -div\\left(\\frac{\\nabla u}{\\sqrt{||\\nabla u||_2^2 + \\epsilon^2}}\\right)\n",
    "\\end{align*}\n",
    "\n",
    "\\begin{align*}\n",
    "  div(F) = \\frac{\\partial F_x}{\\partial x} + \\frac{\\partial F_y}{\\partial y}\n",
    "\\end{align*}\n",
    "\n",
    "$div(F)$ è la divergenza del campo vettoriale $F$, nel nostro caso $F$ ha due componenti dati dal gradiente dell'immagine $\\nabla u$ scalato per il valore $ \\frac{1}{\\sqrt{||\\nabla u||_2^2 + \\epsilon^2}}$. Per calcolare la divergenza bisogna calcolare la derivata orizzontale $\\frac{\\partial F_x}{\\partial x}$ della componente $x$ di $F$ e sommarla alla derivata verticale $\\frac{\\partial F_y}{\\partial y}$ della componente $y$ di $F$. Per specificare in quale direzione calcolare la derivata con la funzione `np.gradient` utilizziamo il parametro `axis = 0` per l'orizzontale e `axis = 1` per la verticale."
   ]
  },
  {
   "cell_type": "code",
   "execution_count": 48,
   "metadata": {
    "id": "mEFmmcOzeabY"
   },
   "outputs": [],
   "source": [
    "eps = 1e-2\n",
    "\n",
    "# Variazione totale\n",
    "def totvar(x):\n",
    "  # Calcola il gradiente di x\n",
    "  dx, dy = np.gradient(x)\n",
    "  n2 = np.square(dx) + np.square(dy)\n",
    "\n",
    "  # Calcola la variazione totale di x\n",
    "  tv = np.sqrt(n2 + eps**2).sum()\n",
    "  return tv\n",
    "\n",
    "# Gradiente della variazione totale\n",
    "def grad_totvar(x):\n",
    "  # Calcola il numeratore della frazione\n",
    "  dx, dy = np.gradient(x)\n",
    "\n",
    "  # Calcola il denominatore della frazione\n",
    "  n2 = np.square(dx) + np.square(dy)\n",
    "  den = np.sqrt(n2 + eps**2)\n",
    "\n",
    "  # Calcola le due componenti di F dividendo il gradiente per il denominatore\n",
    "  Fx = dx / den\n",
    "  Fy = dy / den\n",
    "\n",
    "  # Calcola la derivata orizzontale di Fx \n",
    "  dFdx = np.gradient(Fx, axis=0)\n",
    "  \n",
    "  # Calcola la derivata verticale di Fy\n",
    "  dFdy = np.gradient(Fy, axis=1)\n",
    "\n",
    "  # Calcola la divergenza \n",
    "  div = (dFdx + dFdy)\n",
    "\n",
    "  # Restituisci il valore del gradiente della variazione totale\n",
    "  return -div"
   ]
  },
  {
   "cell_type": "code",
   "execution_count": 50,
   "metadata": {},
   "outputs": [],
   "source": [
    "LAMBDA_TV = [1e-3,1e-2,1e-1]\n",
    "def f_TV(x,K,b,lmbd):\n",
    "    x = np.reshape(x, (512,512))\n",
    "    f = 0.5 * (np.linalg.norm(A(x,K)-b,2)**2) + lmbd*totvar(b)\n",
    "    return f\n",
    "\n",
    "def grad_f_TV(x,K,b,lmbd):\n",
    "    x = np.reshape(x, (512,512))\n",
    "    grad = AT(A(x,K), K) - (AT(b,K)) + lmbd*grad_totvar(x)\n",
    "    return grad.flatten()\n"
   ]
  },
  {
   "cell_type": "code",
   "execution_count": null,
   "metadata": {},
   "outputs": [],
   "source": [
    "#TV lambda I\n",
    "(x_last0_0_TV0,norm_grad_list0_0_TV0, function_eval_list0_0_TV0, error_list0_0_TV0, k0_0_TV0) = metodo_gradiente(x0,A0.flatten(),f_TV,grad_f_TV,K0,A0_blur0,LAMBDA_TV[0],step,MAXITERATIONS,ABSOLUTE_STOP)\n",
    "(x_last0_1_TV0,norm_grad_list0_1_TV0, function_eval_list0_1_TV0, error_list0_1_TV0, k0_1_TV0) = metodo_gradiente(x0,A0.flatten(),f_TV,grad_f_TV,K1,A0_blur1,LAMBDA_TV[0],step,MAXITERATIONS,ABSOLUTE_STOP)\n",
    "(x_last0_2_TV0,norm_grad_list0_2_TV0, function_eval_list0_2_TV0, error_list0_2_TV0, k0_2_TV0) = metodo_gradiente(x0,A0.flatten(),f_TV,grad_f_TV,K2,A0_blur2,LAMBDA_TV[0],step,MAXITERATIONS,ABSOLUTE_STOP)\n",
    "(x_last1_0_TV0,norm_grad_list1_0_TV0, function_eval_list1_0_TV0, error_list1_0_TV0, k1_0_TV0) = metodo_gradiente(x0,A1.flatten(),f_TV,grad_f_TV,K0,A1_blur0,LAMBDA_TV[0],step,MAXITERATIONS,ABSOLUTE_STOP)\n",
    "(x_last1_1_TV0,norm_grad_list1_1_TV0, function_eval_list1_1_TV0, error_list1_1_TV0, k1_1_TV0) = metodo_gradiente(x0,A1.flatten(),f_TV,grad_f_TV,K1,A1_blur1,LAMBDA_TV[0],step,MAXITERATIONS,ABSOLUTE_STOP)\n",
    "(x_last1_2_TV0,norm_grad_list1_2_TV0, function_eval_list1_2_TV0, error_list1_2_TV0, k1_2_TV0) = metodo_gradiente(x0,A1.flatten(),f_TV,grad_f_TV,K2,A1_blur2,LAMBDA_TV[0],step,MAXITERATIONS,ABSOLUTE_STOP)\n",
    "(x_last2_0_TV0,norm_grad_list2_0_TV0, function_eval_list2_0_TV0, error_list2_0_TV0, k2_0_TV0) = metodo_gradiente(x0,A2.flatten(),f_TV,grad_f_TV,K0,A2_blur0,LAMBDA_TV[0],step,MAXITERATIONS,ABSOLUTE_STOP)\n",
    "(x_last2_1_TV0,norm_grad_list2_1_TV0, function_eval_list2_1_TV0, error_list2_1_TV0, k2_1_TV0) = metodo_gradiente(x0,A2.flatten(),f_TV,grad_f_TV,K1,A2_blur1,LAMBDA_TV[0],step,MAXITERATIONS,ABSOLUTE_STOP)\n",
    "(x_last2_2_TV0,norm_grad_list2_2_TV0, function_eval_list2_2_TV0, error_list2_2_TV0, k2_2_TV0) = metodo_gradiente(x0,A2.flatten(),f_TV,grad_f_TV,K2,A2_blur2,LAMBDA_TV[0],step,MAXITERATIONS,ABSOLUTE_STOP)\n",
    "(x_last3_0_TV0,norm_grad_list3_0_TV0, function_eval_list3_0_TV0, error_list3_0_TV0, k3_0_TV0) = metodo_gradiente(x0,A3.flatten(),f_TV,grad_f_TV,K0,A3_blur0,LAMBDA_TV[0],step,MAXITERATIONS,ABSOLUTE_STOP)\n",
    "(x_last3_1_TV0,norm_grad_list3_1_TV0, function_eval_list3_1_TV0, error_list3_1_TV0, k3_1_TV0) = metodo_gradiente(x0,A3.flatten(),f_TV,grad_f_TV,K1,A3_blur1,LAMBDA_TV[0],step,MAXITERATIONS,ABSOLUTE_STOP)\n",
    "(x_last3_2_TV0,norm_grad_list3_2_TV0, function_eval_list3_2_TV0, error_list3_2_TV0, k3_2_TV0) = metodo_gradiente(x0,A3.flatten(),f_TV,grad_f_TV,K2,A3_blur2,LAMBDA_TV[0],step,MAXITERATIONS,ABSOLUTE_STOP)\n",
    "(x_last4_0_TV0,norm_grad_list4_0_TV0, function_eval_list4_0_TV0, error_list4_0_TV0, k4_0_TV0) = metodo_gradiente(x0,A4.flatten(),f_TV,grad_f_TV,K0,A4_blur0,LAMBDA_TV[0],step,MAXITERATIONS,ABSOLUTE_STOP)\n",
    "(x_last4_1_TV0,norm_grad_list4_1_TV0, function_eval_list4_1_TV0, error_list4_1_TV0, k4_1_TV0) = metodo_gradiente(x0,A4.flatten(),f_TV,grad_f_TV,K1,A4_blur1,LAMBDA_TV[0],step,MAXITERATIONS,ABSOLUTE_STOP)\n",
    "(x_last4_2_TV0,norm_grad_list4_2_TV0, function_eval_list4_2_TV0, error_list4_2_TV0, k4_2_TV0) = metodo_gradiente(x0,A4.flatten(),f_TV,grad_f_TV,K2,A4_blur2,LAMBDA_TV[0],step,MAXITERATIONS,ABSOLUTE_STOP)\n",
    "(x_last5_0_TV0,norm_grad_list5_0_TV0, function_eval_list5_0_TV0, error_list5_0_TV0, k5_0_TV0) = metodo_gradiente(x0,A5.flatten(),f_TV,grad_f_TV,K0,A5_blur0,LAMBDA_TV[0],step,MAXITERATIONS,ABSOLUTE_STOP)\n",
    "(x_last5_1_TV0,norm_grad_list5_1_TV0, function_eval_list5_1_TV0, error_list5_1_TV0, k5_1_TV0) = metodo_gradiente(x0,A5.flatten(),f_TV,grad_f_TV,K1,A5_blur1,LAMBDA_TV[0],step,MAXITERATIONS,ABSOLUTE_STOP)\n",
    "(x_last5_2_TV0,norm_grad_list5_2_TV0, function_eval_list5_2_TV0, error_list5_2_TV0, k5_2_TV0) = metodo_gradiente(x0,A5.flatten(),f_TV,grad_f_TV,K2,A5_blur2,LAMBDA_TV[0],step,MAXITERATIONS,ABSOLUTE_STOP)\n",
    "(x_last6_0_TV0,norm_grad_list6_0_TV0, function_eval_list6_0_TV0, error_list6_0_TV0, k6_0_TV0) = metodo_gradiente(x0,A6.flatten(),f_TV,grad_f_TV,K0,A6_blur0,LAMBDA_TV[0],step,MAXITERATIONS,ABSOLUTE_STOP)\n",
    "(x_last6_1_TV0,norm_grad_list6_1_TV0, function_eval_list6_1_TV0, error_list6_1_TV0, k6_1_TV0) = metodo_gradiente(x0,A6.flatten(),f_TV,grad_f_TV,K1,A6_blur1,LAMBDA_TV[0],step,MAXITERATIONS,ABSOLUTE_STOP)\n",
    "(x_last6_2_TV0,norm_grad_list6_2_TV0, function_eval_list6_2_TV0, error_list6_2_TV0, k6_2_TV0) = metodo_gradiente(x0,A6.flatten(),f_TV,grad_f_TV,K2,A6_blur2,LAMBDA_TV[0],step,MAXITERATIONS,ABSOLUTE_STOP)\n",
    "(x_last7_0_TV0,norm_grad_list7_0_TV0, function_eval_list7_0_TV0, error_list7_0_TV0, k7_0_TV0) = metodo_gradiente(x0,A7.flatten(),f_TV,grad_f_TV,K0,A7_blur0,LAMBDA_TV[0],step,MAXITERATIONS,ABSOLUTE_STOP)\n",
    "(x_last7_1_TV0,norm_grad_list7_1_TV0, function_eval_list7_1_TV0, error_list7_1_TV0, k7_1_TV0) = metodo_gradiente(x0,A7.flatten(),f_TV,grad_f_TV,K1,A7_blur1,LAMBDA_TV[0],step,MAXITERATIONS,ABSOLUTE_STOP)\n",
    "(x_last7_2_TV0,norm_grad_list7_2_TV0, function_eval_list7_2_TV0, error_list7_2_TV0, k7_2_TV0) = metodo_gradiente(x0,A7.flatten(),f_TV,grad_f_TV,K2,A7_blur2,LAMBDA_TV[0],step,MAXITERATIONS,ABSOLUTE_STOP)\n"
   ]
  },
  {
   "cell_type": "code",
   "execution_count": null,
   "metadata": {},
   "outputs": [],
   "source": [
    "#TV lambda II\n",
    "(x_last0_0_TV1,norm_grad_list0_0_TV1, function_eval_list0_0_TV1, error_list0_0_TV1, k0_0_TV1) = metodo_gradiente(x0,A0.flatten(),f_TV,grad_f_TV,K0,A0_blur0,LAMBDA_TV[1],step,MAXITERATIONS,ABSOLUTE_STOP)\n",
    "(x_last0_1_TV1,norm_grad_list0_1_TV1, function_eval_list0_1_TV1, error_list0_1_TV1, k0_1_TV1) = metodo_gradiente(x0,A0.flatten(),f_TV,grad_f_TV,K1,A0_blur1,LAMBDA_TV[1],step,MAXITERATIONS,ABSOLUTE_STOP)\n",
    "(x_last0_2_TV1,norm_grad_list0_2_TV1, function_eval_list0_2_TV1, error_list0_2_TV1, k0_2_TV1) = metodo_gradiente(x0,A0.flatten(),f_TV,grad_f_TV,K2,A0_blur2,LAMBDA_TV[1],step,MAXITERATIONS,ABSOLUTE_STOP)\n",
    "(x_last1_0_TV1,norm_grad_list1_0_TV1, function_eval_list1_0_TV1, error_list1_0_TV1, k1_0_TV1) = metodo_gradiente(x0,A1.flatten(),f_TV,grad_f_TV,K0,A1_blur0,LAMBDA_TV[1],step,MAXITERATIONS,ABSOLUTE_STOP)\n",
    "(x_last1_1_TV1,norm_grad_list1_1_TV1, function_eval_list1_1_TV1, error_list1_1_TV1, k1_1_TV1) = metodo_gradiente(x0,A1.flatten(),f_TV,grad_f_TV,K1,A1_blur1,LAMBDA_TV[1],step,MAXITERATIONS,ABSOLUTE_STOP)\n",
    "(x_last1_2_TV1,norm_grad_list1_2_TV1, function_eval_list1_2_TV1, error_list1_2_TV1, k1_2_TV1) = metodo_gradiente(x0,A1.flatten(),f_TV,grad_f_TV,K2,A1_blur2,LAMBDA_TV[1],step,MAXITERATIONS,ABSOLUTE_STOP)\n",
    "(x_last2_0_TV1,norm_grad_list2_0_TV1, function_eval_list2_0_TV1, error_list2_0_TV1, k2_0_TV1) = metodo_gradiente(x0,A2.flatten(),f_TV,grad_f_TV,K0,A2_blur0,LAMBDA_TV[1],step,MAXITERATIONS,ABSOLUTE_STOP)\n",
    "(x_last2_1_TV1,norm_grad_list2_1_TV1, function_eval_list2_1_TV1, error_list2_1_TV1, k2_1_TV1) = metodo_gradiente(x0,A2.flatten(),f_TV,grad_f_TV,K1,A2_blur1,LAMBDA_TV[1],step,MAXITERATIONS,ABSOLUTE_STOP)\n",
    "(x_last2_2_TV1,norm_grad_list2_2_TV1, function_eval_list2_2_TV1, error_list2_2_TV1, k2_2_TV1) = metodo_gradiente(x0,A2.flatten(),f_TV,grad_f_TV,K2,A2_blur2,LAMBDA_TV[1],step,MAXITERATIONS,ABSOLUTE_STOP)\n",
    "(x_last3_0_TV1,norm_grad_list3_0_TV1, function_eval_list3_0_TV1, error_list3_0_TV1, k3_0_TV1) = metodo_gradiente(x0,A3.flatten(),f_TV,grad_f_TV,K0,A3_blur0,LAMBDA_TV[1],step,MAXITERATIONS,ABSOLUTE_STOP)\n",
    "(x_last3_1_TV1,norm_grad_list3_1_TV1, function_eval_list3_1_TV1, error_list3_1_TV1, k3_1_TV1) = metodo_gradiente(x0,A3.flatten(),f_TV,grad_f_TV,K1,A3_blur1,LAMBDA_TV[1],step,MAXITERATIONS,ABSOLUTE_STOP)\n",
    "(x_last3_2_TV1,norm_grad_list3_2_TV1, function_eval_list3_2_TV1, error_list3_2_TV1, k3_2_TV1) = metodo_gradiente(x0,A3.flatten(),f_TV,grad_f_TV,K2,A3_blur2,LAMBDA_TV[1],step,MAXITERATIONS,ABSOLUTE_STOP)\n",
    "(x_last4_0_TV1,norm_grad_list4_0_TV1, function_eval_list4_0_TV1, error_list4_0_TV1, k4_0_TV1) = metodo_gradiente(x0,A4.flatten(),f_TV,grad_f_TV,K0,A4_blur0,LAMBDA_TV[1],step,MAXITERATIONS,ABSOLUTE_STOP)\n",
    "(x_last4_1_TV1,norm_grad_list4_1_TV1, function_eval_list4_1_TV1, error_list4_1_TV1, k4_1_TV1) = metodo_gradiente(x0,A4.flatten(),f_TV,grad_f_TV,K1,A4_blur1,LAMBDA_TV[1],step,MAXITERATIONS,ABSOLUTE_STOP)\n",
    "(x_last4_2_TV1,norm_grad_list4_2_TV1, function_eval_list4_2_TV1, error_list4_2_TV1, k4_2_TV1) = metodo_gradiente(x0,A4.flatten(),f_TV,grad_f_TV,K2,A4_blur2,LAMBDA_TV[1],step,MAXITERATIONS,ABSOLUTE_STOP)\n",
    "(x_last5_0_TV1,norm_grad_list5_0_TV1, function_eval_list5_0_TV1, error_list5_0_TV1, k5_0_TV1) = metodo_gradiente(x0,A5.flatten(),f_TV,grad_f_TV,K0,A5_blur0,LAMBDA_TV[1],step,MAXITERATIONS,ABSOLUTE_STOP)\n",
    "(x_last5_1_TV1,norm_grad_list5_1_TV1, function_eval_list5_1_TV1, error_list5_1_TV1, k5_1_TV1) = metodo_gradiente(x0,A5.flatten(),f_TV,grad_f_TV,K1,A5_blur1,LAMBDA_TV[1],step,MAXITERATIONS,ABSOLUTE_STOP)\n",
    "(x_last5_2_TV1,norm_grad_list5_2_TV1, function_eval_list5_2_TV1, error_list5_2_TV1, k5_2_TV1) = metodo_gradiente(x0,A5.flatten(),f_TV,grad_f_TV,K2,A5_blur2,LAMBDA_TV[1],step,MAXITERATIONS,ABSOLUTE_STOP)\n",
    "(x_last6_0_TV1,norm_grad_list6_0_TV1, function_eval_list6_0_TV1, error_list6_0_TV1, k6_0_TV1) = metodo_gradiente(x0,A6.flatten(),f_TV,grad_f_TV,K0,A6_blur0,LAMBDA_TV[1],step,MAXITERATIONS,ABSOLUTE_STOP)\n",
    "(x_last6_1_TV1,norm_grad_list6_1_TV1, function_eval_list6_1_TV1, error_list6_1_TV1, k6_1_TV1) = metodo_gradiente(x0,A6.flatten(),f_TV,grad_f_TV,K1,A6_blur1,LAMBDA_TV[1],step,MAXITERATIONS,ABSOLUTE_STOP)\n",
    "(x_last6_2_TV1,norm_grad_list6_2_TV1, function_eval_list6_2_TV1, error_list6_2_TV1, k6_2_TV1) = metodo_gradiente(x0,A6.flatten(),f_TV,grad_f_TV,K2,A6_blur2,LAMBDA_TV[1],step,MAXITERATIONS,ABSOLUTE_STOP)\n",
    "(x_last7_0_TV1,norm_grad_list7_0_TV1, function_eval_list7_0_TV1, error_list7_0_TV1, k7_0_TV1) = metodo_gradiente(x0,A7.flatten(),f_TV,grad_f_TV,K0,A7_blur0,LAMBDA_TV[1],step,MAXITERATIONS,ABSOLUTE_STOP)\n",
    "(x_last7_1_TV1,norm_grad_list7_1_TV1, function_eval_list7_1_TV1, error_list7_1_TV1, k7_1_TV1) = metodo_gradiente(x0,A7.flatten(),f_TV,grad_f_TV,K1,A7_blur1,LAMBDA_TV[1],step,MAXITERATIONS,ABSOLUTE_STOP)\n",
    "(x_last7_2_TV1,norm_grad_list7_2_TV1, function_eval_list7_2_TV1, error_list7_2_TV1, k7_2_TV1) = metodo_gradiente(x0,A7.flatten(),f_TV,grad_f_TV,K2,A7_blur2,LAMBDA_TV[1],step,MAXITERATIONS,ABSOLUTE_STOP)"
   ]
  },
  {
   "cell_type": "code",
   "execution_count": null,
   "metadata": {},
   "outputs": [],
   "source": [
    "#TV lambda III\n",
    "(x_last0_0_TV2,norm_grad_list0_0_TV2, function_eval_list0_0_TV2, error_list0_0_TV2, k0_0_TV2) = metodo_gradiente(x0,A0.flatten(),f_TV,grad_f_TV,K0,A0_blur0,LAMBDA_TV[2],step,MAXITERATIONS,ABSOLUTE_STOP)\n",
    "(x_last0_1_TV2,norm_grad_list0_1_TV2, function_eval_list0_1_TV2, error_list0_1_TV2, k0_1_TV2) = metodo_gradiente(x0,A0.flatten(),f_TV,grad_f_TV,K1,A0_blur1,LAMBDA_TV[2],step,MAXITERATIONS,ABSOLUTE_STOP)\n",
    "(x_last0_2_TV2,norm_grad_list0_2_TV2, function_eval_list0_2_TV2, error_list0_2_TV2, k0_2_TV2) = metodo_gradiente(x0,A0.flatten(),f_TV,grad_f_TV,K2,A0_blur2,LAMBDA_TV[2],step,MAXITERATIONS,ABSOLUTE_STOP)\n",
    "(x_last1_0_TV2,norm_grad_list1_0_TV2, function_eval_list1_0_TV2, error_list1_0_TV2, k1_0_TV2) = metodo_gradiente(x0,A1.flatten(),f_TV,grad_f_TV,K0,A1_blur0,LAMBDA_TV[2],step,MAXITERATIONS,ABSOLUTE_STOP)\n",
    "(x_last1_1_TV2,norm_grad_list1_1_TV2, function_eval_list1_1_TV2, error_list1_1_TV2, k1_1_TV2) = metodo_gradiente(x0,A1.flatten(),f_TV,grad_f_TV,K1,A1_blur1,LAMBDA_TV[2],step,MAXITERATIONS,ABSOLUTE_STOP)\n",
    "(x_last1_2_TV2,norm_grad_list1_2_TV2, function_eval_list1_2_TV2, error_list1_2_TV2, k1_2_TV2) = metodo_gradiente(x0,A1.flatten(),f_TV,grad_f_TV,K2,A1_blur2,LAMBDA_TV[2],step,MAXITERATIONS,ABSOLUTE_STOP)\n",
    "(x_last2_0_TV2,norm_grad_list2_0_TV2, function_eval_list2_0_TV2, error_list2_0_TV2, k2_0_TV2) = metodo_gradiente(x0,A2.flatten(),f_TV,grad_f_TV,K0,A2_blur0,LAMBDA_TV[2],step,MAXITERATIONS,ABSOLUTE_STOP)\n",
    "(x_last2_1_TV2,norm_grad_list2_1_TV2, function_eval_list2_1_TV2, error_list2_1_TV2, k2_1_TV2) = metodo_gradiente(x0,A2.flatten(),f_TV,grad_f_TV,K1,A2_blur1,LAMBDA_TV[2],step,MAXITERATIONS,ABSOLUTE_STOP)\n",
    "(x_last2_2_TV2,norm_grad_list2_2_TV2, function_eval_list2_2_TV2, error_list2_2_TV2, k2_2_TV2) = metodo_gradiente(x0,A2.flatten(),f_TV,grad_f_TV,K2,A2_blur2,LAMBDA_TV[2],step,MAXITERATIONS,ABSOLUTE_STOP)\n",
    "(x_last3_0_TV2,norm_grad_list3_0_TV2, function_eval_list3_0_TV2, error_list3_0_TV2, k3_0_TV2) = metodo_gradiente(x0,A3.flatten(),f_TV,grad_f_TV,K0,A3_blur0,LAMBDA_TV[2],step,MAXITERATIONS,ABSOLUTE_STOP)\n",
    "(x_last3_1_TV2,norm_grad_list3_1_TV2, function_eval_list3_1_TV2, error_list3_1_TV2, k3_1_TV2) = metodo_gradiente(x0,A3.flatten(),f_TV,grad_f_TV,K1,A3_blur1,LAMBDA_TV[2],step,MAXITERATIONS,ABSOLUTE_STOP)\n",
    "(x_last3_2_TV2,norm_grad_list3_2_TV2, function_eval_list3_2_TV2, error_list3_2_TV2, k3_2_TV2) = metodo_gradiente(x0,A3.flatten(),f_TV,grad_f_TV,K2,A3_blur2,LAMBDA_TV[2],step,MAXITERATIONS,ABSOLUTE_STOP)\n",
    "(x_last4_0_TV2,norm_grad_list4_0_TV2, function_eval_list4_0_TV2, error_list4_0_TV2, k4_0_TV2) = metodo_gradiente(x0,A4.flatten(),f_TV,grad_f_TV,K0,A4_blur0,LAMBDA_TV[2],step,MAXITERATIONS,ABSOLUTE_STOP)\n",
    "(x_last4_1_TV2,norm_grad_list4_1_TV2, function_eval_list4_1_TV2, error_list4_1_TV2, k4_1_TV2) = metodo_gradiente(x0,A4.flatten(),f_TV,grad_f_TV,K1,A4_blur1,LAMBDA_TV[2],step,MAXITERATIONS,ABSOLUTE_STOP)\n",
    "(x_last4_2_TV2,norm_grad_list4_2_TV2, function_eval_list4_2_TV2, error_list4_2_TV2, k4_2_TV2) = metodo_gradiente(x0,A4.flatten(),f_TV,grad_f_TV,K2,A4_blur2,LAMBDA_TV[2],step,MAXITERATIONS,ABSOLUTE_STOP)\n",
    "(x_last5_0_TV2,norm_grad_list5_0_TV2, function_eval_list5_0_TV2, error_list5_0_TV2, k5_0_TV2) = metodo_gradiente(x0,A5.flatten(),f_TV,grad_f_TV,K0,A5_blur0,LAMBDA_TV[2],step,MAXITERATIONS,ABSOLUTE_STOP)\n",
    "(x_last5_1_TV2,norm_grad_list5_1_TV2, function_eval_list5_1_TV2, error_list5_1_TV2, k5_1_TV2) = metodo_gradiente(x0,A5.flatten(),f_TV,grad_f_TV,K1,A5_blur1,LAMBDA_TV[2],step,MAXITERATIONS,ABSOLUTE_STOP)\n",
    "(x_last5_2_TV2,norm_grad_list5_2_TV2, function_eval_list5_2_TV2, error_list5_2_TV2, k5_2_TV2) = metodo_gradiente(x0,A5.flatten(),f_TV,grad_f_TV,K2,A5_blur2,LAMBDA_TV[2],step,MAXITERATIONS,ABSOLUTE_STOP)\n",
    "(x_last6_0_TV2,norm_grad_list6_0_TV2, function_eval_list6_0_TV2, error_list6_0_TV2, k6_0_TV2) = metodo_gradiente(x0,A6.flatten(),f_TV,grad_f_TV,K0,A6_blur0,LAMBDA_TV[2],step,MAXITERATIONS,ABSOLUTE_STOP)\n",
    "(x_last6_1_TV2,norm_grad_list6_1_TV2, function_eval_list6_1_TV2, error_list6_1_TV2, k6_1_TV2) = metodo_gradiente(x0,A6.flatten(),f_TV,grad_f_TV,K1,A6_blur1,LAMBDA_TV[2],step,MAXITERATIONS,ABSOLUTE_STOP)\n",
    "(x_last6_2_TV2,norm_grad_list6_2_TV2, function_eval_list6_2_TV2, error_list6_2_TV2, k6_2_TV2) = metodo_gradiente(x0,A6.flatten(),f_TV,grad_f_TV,K2,A6_blur2,LAMBDA_TV[2],step,MAXITERATIONS,ABSOLUTE_STOP)\n",
    "(x_last7_0_TV2,norm_grad_list7_0_TV2, function_eval_list7_0_TV2, error_list7_0_TV2, k7_0_TV2) = metodo_gradiente(x0,A7.flatten(),f_TV,grad_f_TV,K0,A7_blur0,LAMBDA_TV[2],step,MAXITERATIONS,ABSOLUTE_STOP)\n",
    "(x_last7_1_TV2,norm_grad_list7_1_TV2, function_eval_list7_1_TV2, error_list7_1_TV2, k7_1_TV2) = metodo_gradiente(x0,A7.flatten(),f_TV,grad_f_TV,K1,A7_blur1,LAMBDA_TV[2],step,MAXITERATIONS,ABSOLUTE_STOP)\n",
    "(x_last7_2_TV2,norm_grad_list7_2_TV2, function_eval_list7_2_TV2, error_list7_2_TV2, k7_2_TV2) = metodo_gradiente(x0,A7.flatten(),f_TV,grad_f_TV,K2,A7_blur2,LAMBDA_TV[2],step,MAXITERATIONS,ABSOLUTE_STOP)"
   ]
  },
  {
   "cell_type": "markdown",
   "metadata": {
    "id": "cESG-s9Kfbul"
   },
   "source": [
    "# Relazione\n",
    "\n",
    "1.   Riportare e commentare i risultati ottenuti nei punti 2. 3. (e 4.) su un immagine del set creato e su altre due immagini in bianco e nero  (fotografiche/mediche/astronomiche)\n",
    "2.   Riportare delle tabelle con le misure di PSNR e MSE ottenute al variare dei parametri (dimensione kernel, valore di sigma, la deviazione standard del rumore, il parametro di regolarizzazione). \n",
    "3. Calcolare sull’intero set di immagini medie e deviazione standard delle metriche per alcuni valori fissati dei parametri.  \n",
    "4. Analizzare su 2 esecuzioni le proprietà dei metodi numerici utilizzati (gradiente coniugato e gradiente) in termini di numero di iterazioni, andamento dell’errore, della funzione obiettivo, norma del gradiente. \n",
    "\n"
   ]
  },
  {
   "cell_type": "code",
   "execution_count": 13,
   "metadata": {},
   "outputs": [
    {
     "data": {
      "image/png": "[encoded data removed]",
      "text/plain": [
       "<Figure size 432x288 with 1 Axes>"
      ]
     },
     "metadata": {
      "needs_background": "light"
     },
     "output_type": "display_data"
    }
   ],
   "source": [
    "#generazione dei grafici\n",
    "A1 = np.asarray(Image.open('Immagini_progetto/img_1.png'))/255.0\n",
    "A2 = np.asarray(Image.open('Immagini_progetto/img_2.png'))/255.0\n",
    "\n",
    "b1 = A(A1, K1) + np.random.normal(size=A1.shape)*deviation[1]\n",
    "b2 = A(A2, K1) + np.random.normal(size=A2.shape)*deviation[1]\n"
   ]
  },
  {
   "cell_type": "code",
   "execution_count": 23,
   "metadata": {},
   "outputs": [
    {
     "name": "stdout",
     "output_type": "stream",
     "text": [
      "iterations= 40\n"
     ]
    }
   ],
   "source": [
    "#ricostruzione b1\n",
    "\n",
    "fun_ev_l = []\n",
    "error_l = []\n",
    "norm_grad_l = []\n",
    "\n",
    "def callback_info1(x):\n",
    "    x = np.reshape(x, (512,512))\n",
    "    f = 0.5*(np.linalg.norm(A(x,K1)-b1,2)**2 + LAMBDA_TIKHONOV[1]*np.linalg.norm(x,2)**2)\n",
    "    df = AT(A(x,K1), K1) - AT(b1,K1) + LAMBDA_TIKHONOV[1]*x\n",
    "    n = np.linalg.norm(df)\n",
    "    fun_ev_l.append(f)\n",
    "    error_l.append(np.linalg.norm(A1-x))\n",
    "    norm_grad_l.append(n)\n",
    "\n",
    "x0 = np.ones(A1.shape).flatten()\n",
    "\n",
    "#metodo del gradiente\n",
    "(x_last1, norm_grad_list1, function_eval_list1, error_list1, k1) = metodo_gradiente(x0,\n",
    "                                                                                   A1.flatten(),\n",
    "                                                                                   f_tikhonov_gradiente,\n",
    "                                                                                   grad_f_tikhonov,\n",
    "                                                                                   K1,\n",
    "                                                                                   b1, \n",
    "                                                                                   LAMBDA_TIKHONOV[1],\n",
    "                                                                                   step,\n",
    "                                                                                   MAXITERATIONS,\n",
    "                                                                                   ABSOLUTE_STOP)\n",
    "\n",
    "#metodo dei gradienti coniugati\n",
    "result_minimize = np.reshape(minimize(f_tikhonov, x0, method='CG', jac=True, callback=callback_info1, args=(K1,b1,LAMBDA_TIKHONOV[1])).x, (512,512))"
   ]
  },
  {
   "cell_type": "code",
   "execution_count": 24,
   "metadata": {},
   "outputs": [
    {
     "data": {
      "image/png": "[encoded data removed]",
      "text/plain": [
       "<Figure size 648x216 with 3 Axes>"
      ]
     },
     "metadata": {
      "needs_background": "light"
     },
     "output_type": "display_data"
    }
   ],
   "source": [
    "#plot 1\n",
    "#error_list\n",
    "plt.figure(figsize=(9,3))\n",
    "plt.suptitle(\"Metodo del Gradiente\", fontsize=10)\n",
    "x_err = np.linspace(0,30,1)\n",
    "#plt.plot(error_list[0], '-o')\n",
    "ax0 = plt.subplot(1,3,1)\n",
    "ax0.plot(function_eval_list1[0])\n",
    "ax0.grid()\n",
    "ax0.set_title('function_eval', fontsize=10)\n",
    "ax0.set_xlabel('iterazioni', fontsize=8)\n",
    "\n",
    "ax1 = plt.subplot(1,3,2)\n",
    "ax1.plot(error_list1[0])\n",
    "ax1.grid()\n",
    "ax1.set_title('error', fontsize=10)\n",
    "ax1.set_xlabel('iterazioni', fontsize=8)\n",
    "\n",
    "ax2 = plt.subplot(1,3,3)\n",
    "ax2.plot(norm_grad_list1[0])\n",
    "ax2.grid()\n",
    "ax2.set_title('norma gradiente', fontsize=10)\n",
    "ax2.set_xlabel('iterazioni')\n",
    "\n",
    "plt.show()"
   ]
  },
  {
   "cell_type": "code",
   "execution_count": 25,
   "metadata": {},
   "outputs": [
    {
     "data": {
      "image/png": "[encoded data removed]",
      "text/plain": [
       "<Figure size 648x216 with 3 Axes>"
      ]
     },
     "metadata": {
      "needs_background": "light"
     },
     "output_type": "display_data"
    }
   ],
   "source": [
    "#plot 2\n",
    "#error_list\n",
    "plt.figure(figsize=(9,3))\n",
    "plt.suptitle(\"Metodo dei Gradienti Coniugati\", fontsize=10)\n",
    "x_err = np.linspace(0,30,1)\n",
    "#plt.plot(error_list[0], '-o')\n",
    "ax0 = plt.subplot(1,3,1)\n",
    "ax0.plot(fun_ev_l)\n",
    "ax0.grid()\n",
    "ax0.set_title('function_eval', fontsize=10)\n",
    "ax0.set_xlabel('iterazioni', fontsize=8)\n",
    "\n",
    "ax1 = plt.subplot(1,3,2)\n",
    "ax1.plot(error_l)\n",
    "ax1.grid()\n",
    "ax1.set_title('error', fontsize=10)\n",
    "ax1.set_xlabel('iterazioni', fontsize=8)\n",
    "\n",
    "ax2 = plt.subplot(1,3,3)\n",
    "ax2.plot(norm_grad_l)\n",
    "ax2.grid()\n",
    "ax2.set_title('norma gradiente', fontsize=10)\n",
    "ax2.set_xlabel('iterazioni')\n",
    "\n",
    "plt.show()"
   ]
  },
  {
   "cell_type": "code",
   "execution_count": 27,
   "metadata": {},
   "outputs": [
    {
     "name": "stdout",
     "output_type": "stream",
     "text": [
      "iterations= 40\n"
     ]
    }
   ],
   "source": [
    "#ricostruzione b2\n",
    "\n",
    "fun_ev_l2 = []\n",
    "error_l2 = []\n",
    "norm_grad_l2 = []\n",
    "\n",
    "def callback_info2(x):\n",
    "    x = np.reshape(x, (512,512))\n",
    "    f = 0.5*(np.linalg.norm(A(x,K1)-b2,2)**2 + LAMBDA_TIKHONOV[1]*np.linalg.norm(x,2)**2)\n",
    "    df = AT(A(x,K1), K1) - AT(b2,K1) + LAMBDA_TIKHONOV[1]*x\n",
    "    n = np.linalg.norm(df)\n",
    "    fun_ev_l2.append(f)\n",
    "    error_l2.append(np.linalg.norm(A2-x))\n",
    "    norm_grad_l2.append(n)\n",
    "\n",
    "x0 = np.ones(A1.shape).flatten()\n",
    "\n",
    "#metodo del gradiente\n",
    "(x_last2, norm_grad_list2, function_eval_list2, error_list2, k2) = metodo_gradiente(x0,\n",
    "                                                                                   A2.flatten(),\n",
    "                                                                                   f_tikhonov_gradiente,\n",
    "                                                                                   grad_f_tikhonov,\n",
    "                                                                                   K1,\n",
    "                                                                                   b2, \n",
    "                                                                                   LAMBDA_TIKHONOV[1],\n",
    "                                                                                   step,\n",
    "                                                                                   MAXITERATIONS,\n",
    "                                                                                   ABSOLUTE_STOP)\n",
    "\n",
    "#metodo dei gradienti coniugati\n",
    "result_minimize2 = np.reshape(minimize(f_tikhonov, x0, method='CG', jac=True, callback=callback_info2, args=(K1,b2,LAMBDA_TIKHONOV[1])).x, (512,512))"
   ]
  },
  {
   "cell_type": "code",
   "execution_count": 28,
   "metadata": {},
   "outputs": [
    {
     "data": {
      "image/png": "[encoded data removed]",
      "text/plain": [
       "<Figure size 648x216 with 3 Axes>"
      ]
     },
     "metadata": {
      "needs_background": "light"
     },
     "output_type": "display_data"
    }
   ],
   "source": [
    "#plot 3\n",
    "#error_list\n",
    "plt.figure(figsize=(9,3))\n",
    "plt.suptitle(\"Metodo del Gradiente\", fontsize=10)\n",
    "x_err = np.linspace(0,30,1)\n",
    "#plt.plot(error_list[0], '-o')\n",
    "ax0 = plt.subplot(1,3,1)\n",
    "ax0.plot(function_eval_list2[0])\n",
    "ax0.grid()\n",
    "ax0.set_title('function_eval', fontsize=10)\n",
    "ax0.set_xlabel('iterazioni', fontsize=8)\n",
    "\n",
    "ax1 = plt.subplot(1,3,2)\n",
    "ax1.plot(error_list2[0])\n",
    "ax1.grid()\n",
    "ax1.set_title('error', fontsize=10)\n",
    "ax1.set_xlabel('iterazioni', fontsize=8)\n",
    "\n",
    "ax2 = plt.subplot(1,3,3)\n",
    "ax2.plot(norm_grad_list2[0])\n",
    "ax2.grid()\n",
    "ax2.set_title('norma gradiente', fontsize=10)\n",
    "ax2.set_xlabel('iterazioni')\n",
    "\n",
    "plt.show()"
   ]
  },
  {
   "cell_type": "code",
   "execution_count": 29,
   "metadata": {},
   "outputs": [
    {
     "data": {
      "image/png": "[encoded data removed]",
      "text/plain": [
       "<Figure size 648x216 with 3 Axes>"
      ]
     },
     "metadata": {
      "needs_background": "light"
     },
     "output_type": "display_data"
    }
   ],
   "source": [
    "#plot 4\n",
    "#error_list\n",
    "plt.figure(figsize=(9,3))\n",
    "plt.suptitle(\"Metodo dei Gradienti Coniugati\", fontsize=10)\n",
    "x_err = np.linspace(0,30,1)\n",
    "#plt.plot(error_list[0], '-o')\n",
    "ax0 = plt.subplot(1,3,1)\n",
    "ax0.plot(fun_ev_l2)\n",
    "ax0.grid()\n",
    "ax0.set_title('function_eval', fontsize=10)\n",
    "ax0.set_xlabel('iterazioni', fontsize=8)\n",
    "\n",
    "ax1 = plt.subplot(1,3,2)\n",
    "ax1.plot(error_l2)\n",
    "ax1.grid()\n",
    "ax1.set_title('error', fontsize=10)\n",
    "ax1.set_xlabel('iterazioni', fontsize=8)\n",
    "\n",
    "ax2 = plt.subplot(1,3,3)\n",
    "ax2.plot(norm_grad_l2)\n",
    "ax2.grid()\n",
    "ax2.set_title('norma gradiente', fontsize=10)\n",
    "ax2.set_xlabel('iterazioni')\n",
    "\n",
    "plt.show()"
   ]
  },
  {
   "cell_type": "code",
   "execution_count": null,
   "metadata": {},
   "outputs": [],
   "source": []
  }
 ],
 "metadata": {
  "colab": {
   "collapsed_sections": [],
   "name": "Traccia progetto",
   "provenance": []
  },
  "kernelspec": {
   "display_name": "Python 3 (ipykernel)",
   "language": "python",
   "name": "python3"
  },
  "language_info": {
   "codemirror_mode": {
    "name": "ipython",
    "version": 3
   },
   "file_extension": ".py",
   "mimetype": "text/x-python",
   "name": "python",
   "nbconvert_exporter": "python",
   "pygments_lexer": "ipython3",
   "version": "3.8.10"
  }
 },
 "nbformat": 4,
 "nbformat_minor": 1
}
